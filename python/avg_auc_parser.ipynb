{
 "cells": [
  {
   "cell_type": "code",
   "execution_count": 2,
   "metadata": {},
   "outputs": [],
   "source": [
    "import pandas as pd\n",
    "import numpy as np"
   ]
  },
  {
   "cell_type": "code",
   "execution_count": 26,
   "metadata": {},
   "outputs": [],
   "source": [
    "avg_auc = pd.DataFrame({'model': ['GB', 'rbf_SVM', 'linear_SVM', 'LR', 'RF'],\n",
    "                        'standard': np.zeros(5),\n",
    "                        'robust': np.zeros(5),\n",
    "                        'quan_tran': np.zeros(5),\n",
    "                        'norm_quan': np.zeros(5),\n",
    "                        'norm_quan_robust': np.zeros(5),\n",
    "                        'vsd': np.zeros(5),\n",
    "                        'vsd_robust': np.zeros(5)})\n",
    "avg_auc = avg_auc.set_index('model')"
   ]
  },
  {
   "cell_type": "code",
   "execution_count": 27,
   "metadata": {},
   "outputs": [
    {
     "data": {
      "text/html": [
       "<div>\n",
       "<style scoped>\n",
       "    .dataframe tbody tr th:only-of-type {\n",
       "        vertical-align: middle;\n",
       "    }\n",
       "\n",
       "    .dataframe tbody tr th {\n",
       "        vertical-align: top;\n",
       "    }\n",
       "\n",
       "    .dataframe thead th {\n",
       "        text-align: right;\n",
       "    }\n",
       "</style>\n",
       "<table border=\"1\" class=\"dataframe\">\n",
       "  <thead>\n",
       "    <tr style=\"text-align: right;\">\n",
       "      <th></th>\n",
       "      <th>norm_quan</th>\n",
       "      <th>norm_quan_robust</th>\n",
       "      <th>quan_tran</th>\n",
       "      <th>robust</th>\n",
       "      <th>standard</th>\n",
       "      <th>vsd</th>\n",
       "      <th>vsd_robust</th>\n",
       "    </tr>\n",
       "    <tr>\n",
       "      <th>model</th>\n",
       "      <th></th>\n",
       "      <th></th>\n",
       "      <th></th>\n",
       "      <th></th>\n",
       "      <th></th>\n",
       "      <th></th>\n",
       "      <th></th>\n",
       "    </tr>\n",
       "  </thead>\n",
       "  <tbody>\n",
       "    <tr>\n",
       "      <th>GB</th>\n",
       "      <td>0.0</td>\n",
       "      <td>0.0</td>\n",
       "      <td>0.0</td>\n",
       "      <td>0.0</td>\n",
       "      <td>0.0</td>\n",
       "      <td>0.0</td>\n",
       "      <td>0.0</td>\n",
       "    </tr>\n",
       "    <tr>\n",
       "      <th>rbf_SVM</th>\n",
       "      <td>0.0</td>\n",
       "      <td>0.0</td>\n",
       "      <td>0.0</td>\n",
       "      <td>0.0</td>\n",
       "      <td>0.0</td>\n",
       "      <td>0.0</td>\n",
       "      <td>0.0</td>\n",
       "    </tr>\n",
       "    <tr>\n",
       "      <th>linear_SVM</th>\n",
       "      <td>0.0</td>\n",
       "      <td>0.0</td>\n",
       "      <td>0.0</td>\n",
       "      <td>0.0</td>\n",
       "      <td>0.0</td>\n",
       "      <td>0.0</td>\n",
       "      <td>0.0</td>\n",
       "    </tr>\n",
       "    <tr>\n",
       "      <th>LR</th>\n",
       "      <td>0.0</td>\n",
       "      <td>0.0</td>\n",
       "      <td>0.0</td>\n",
       "      <td>0.0</td>\n",
       "      <td>0.0</td>\n",
       "      <td>0.0</td>\n",
       "      <td>0.0</td>\n",
       "    </tr>\n",
       "    <tr>\n",
       "      <th>RF</th>\n",
       "      <td>0.0</td>\n",
       "      <td>0.0</td>\n",
       "      <td>0.0</td>\n",
       "      <td>0.0</td>\n",
       "      <td>0.0</td>\n",
       "      <td>0.0</td>\n",
       "      <td>0.0</td>\n",
       "    </tr>\n",
       "  </tbody>\n",
       "</table>\n",
       "</div>"
      ],
      "text/plain": [
       "            norm_quan  norm_quan_robust  quan_tran  robust  standard  vsd  \\\n",
       "model                                                                       \n",
       "GB                0.0               0.0        0.0     0.0       0.0  0.0   \n",
       "rbf_SVM           0.0               0.0        0.0     0.0       0.0  0.0   \n",
       "linear_SVM        0.0               0.0        0.0     0.0       0.0  0.0   \n",
       "LR                0.0               0.0        0.0     0.0       0.0  0.0   \n",
       "RF                0.0               0.0        0.0     0.0       0.0  0.0   \n",
       "\n",
       "            vsd_robust  \n",
       "model                   \n",
       "GB                 0.0  \n",
       "rbf_SVM            0.0  \n",
       "linear_SVM         0.0  \n",
       "LR                 0.0  \n",
       "RF                 0.0  "
      ]
     },
     "execution_count": 27,
     "metadata": {},
     "output_type": "execute_result"
    }
   ],
   "source": [
    "avg_auc"
   ]
  },
  {
   "cell_type": "code",
   "execution_count": 28,
   "metadata": {},
   "outputs": [
    {
     "name": "stdout",
     "output_type": "stream",
     "text": [
      "GB\n",
      "norm_quan\n",
      "GB\n",
      "quan_tran\n",
      "GB\n",
      "standard\n",
      "GB\n",
      "norm_quan_robust\n",
      "GB\n",
      "vsd\n",
      "GB\n",
      "vsd_robust\n",
      "GB\n",
      "robust\n",
      "rbf_SVM\n",
      "robust\n",
      "rbf_SVM\n",
      "vsd\n",
      "rbf_SVM\n",
      "vsd_robust\n",
      "rbf_SVM\n",
      "norm_quan_robust\n",
      "rbf_SVM\n",
      "quan_tran\n",
      "rbf_SVM\n",
      "standard\n",
      "rbf_SVM\n",
      "norm_quan\n",
      "linear_SVM\n",
      "norm_quan_robust\n",
      "linear_SVM\n",
      "vsd_robust\n",
      "linear_SVM\n",
      "vsd\n",
      "linear_SVM\n",
      "standard\n",
      "linear_SVM\n",
      "quan_tran\n",
      "linear_SVM\n",
      "robust\n",
      "linear_SVM\n",
      "norm_quan\n",
      "LR\n",
      "vsd_robust\n",
      "LR\n",
      "vsd\n",
      "LR\n",
      "standard\n",
      "LR\n",
      "norm_quan\n",
      "LR\n",
      "quan_tran\n",
      "LR\n",
      "robust\n",
      "LR\n",
      "norm_quan_robust\n",
      "RF\n",
      "norm_quan\n",
      "RF\n",
      "quan_tran\n",
      "RF\n",
      "standard\n",
      "RF\n",
      "norm_quan_robust\n",
      "RF\n",
      "vsd\n",
      "RF\n",
      "robust\n",
      "RF\n",
      "vsd_robust\n"
     ]
    }
   ],
   "source": [
    "row = ''\n",
    "column = ''\n",
    "\n",
    "with open('../results/AUC/avg_aucs.txt', 'r') as in_f:\n",
    "    for line in in_f:\n",
    "        if line == '\\n':\n",
    "            continue\n",
    "        if line.startswith('0'):\n",
    "            avg_auc.loc[row, column] = float(line.strip())\n",
    "        else:\n",
    "            line = line.split(' ')\n",
    "            row = line[0]\n",
    "            column = line[1].split('_')\n",
    "            column = '_'.join(column[1:len(column) - 1])\n",
    "            print(row)\n",
    "            print(column)"
   ]
  },
  {
   "cell_type": "code",
   "execution_count": 29,
   "metadata": {},
   "outputs": [
    {
     "data": {
      "text/plain": [
       "0.67229347372820003"
      ]
     },
     "execution_count": 29,
     "metadata": {},
     "output_type": "execute_result"
    }
   ],
   "source": [
    "avg_auc.loc[row, column]"
   ]
  },
  {
   "cell_type": "code",
   "execution_count": 31,
   "metadata": {},
   "outputs": [],
   "source": [
    "avg_auc\n",
    "\n",
    "avg_auc.to_csv('../results/avg_auc_table.tsv', sep='\\t')"
   ]
  },
  {
   "cell_type": "code",
   "execution_count": null,
   "metadata": {},
   "outputs": [],
   "source": []
  }
 ],
 "metadata": {
  "kernelspec": {
   "display_name": "Python 3",
   "language": "python",
   "name": "python3"
  },
  "language_info": {
   "codemirror_mode": {
    "name": "ipython",
    "version": 3
   },
   "file_extension": ".py",
   "mimetype": "text/x-python",
   "name": "python",
   "nbconvert_exporter": "python",
   "pygments_lexer": "ipython3",
   "version": "3.6.3"
  }
 },
 "nbformat": 4,
 "nbformat_minor": 2
}
