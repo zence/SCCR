{
 "cells": [
  {
   "cell_type": "code",
   "execution_count": 3,
   "metadata": {},
   "outputs": [],
   "source": [
    "import ast"
   ]
  },
  {
   "cell_type": "code",
   "execution_count": 22,
   "metadata": {},
   "outputs": [],
   "source": [
    "output_seq = open('../results/output_seq.txt', 'r')\n",
    "\n",
    "group = []\n",
    "grp_open = False\n",
    "data_points = []\n",
    "auc_ix = 1\n",
    "output_string = 'grouping\\t1\\t2\\t3\\t4\\t5\\t6\\t7\\n'\n",
    "\n",
    "for line in output_seq:\n",
    "    if line.startswith('['):\n",
    "        group = ast.literal_eval(line.rstrip())\n",
    "        grp_open = True\n",
    "        continue\n",
    "    if line == \"**BEST**\\n\":\n",
    "        grp_open = False\n",
    "        output_string += '\\t'.join(['_'.join(group), *data_points]) + '\\n'\n",
    "        data_points = []\n",
    "    if grp_open:\n",
    "        data = line.split(': ')\n",
    "        data_points.append(data[auc_ix].rstrip())\n",
    "        \n",
    "\n",
    "output_seq.close()"
   ]
  },
  {
   "cell_type": "code",
   "execution_count": 23,
   "metadata": {},
   "outputs": [],
   "source": [
    "out_f = open(\"../results/auc_results.tsv\", 'w')\n",
    "\n",
    "out_f.write(output_string)\n",
    "\n",
    "out_f.close()"
   ]
  },
  {
   "cell_type": "code",
   "execution_count": 25,
   "metadata": {},
   "outputs": [],
   "source": [
    "output_seq = open('../results/rf_output.txt', 'r')\n",
    "\n",
    "group = []\n",
    "grp_open = False\n",
    "data_points = []\n",
    "auc_ix = 1\n",
    "output_string = 'grouping\\t1\\t2\\t3\\t4\\t5\\t6\\t7\\n'\n",
    "\n",
    "for line in output_seq:\n",
    "    if line.startswith('['):\n",
    "        group = ast.literal_eval(line.rstrip())\n",
    "        grp_open = True\n",
    "        continue\n",
    "    if line == \"**BEST**\\n\":\n",
    "        grp_open = False\n",
    "        output_string += '\\t'.join(['_'.join(group), *data_points]) + '\\n'\n",
    "        data_points = []\n",
    "    if grp_open:\n",
    "        data = line.split(': ')\n",
    "        data_points.append(data[auc_ix].rstrip())\n",
    "        \n",
    "\n",
    "output_seq.close()"
   ]
  },
  {
   "cell_type": "code",
   "execution_count": 26,
   "metadata": {},
   "outputs": [],
   "source": [
    "out_f = open(\"../results/auc_rf_results.tsv\", 'w')\n",
    "\n",
    "out_f.write(output_string)\n",
    "\n",
    "out_f.close()"
   ]
  },
  {
   "cell_type": "code",
   "execution_count": 27,
   "metadata": {},
   "outputs": [],
   "source": [
    "output_seq = open('../results/robust_rf_output.txt', 'r')\n",
    "\n",
    "group = []\n",
    "grp_open = False\n",
    "data_points = []\n",
    "auc_ix = 1\n",
    "output_string = 'grouping\\t1\\t2\\t3\\t4\\t5\\t6\\t7\\n'\n",
    "\n",
    "for line in output_seq:\n",
    "    if line.startswith('['):\n",
    "        group = ast.literal_eval(line.rstrip())\n",
    "        grp_open = True\n",
    "        continue\n",
    "    if line == \"**BEST**\\n\":\n",
    "        grp_open = False\n",
    "        output_string += '\\t'.join(['_'.join(group), *data_points]) + '\\n'\n",
    "        data_points = []\n",
    "    if grp_open:\n",
    "        data = line.split(': ')\n",
    "        data_points.append(data[auc_ix].rstrip())\n",
    "        \n",
    "\n",
    "output_seq.close()"
   ]
  },
  {
   "cell_type": "code",
   "execution_count": 28,
   "metadata": {},
   "outputs": [],
   "source": [
    "out_f = open(\"../results/auc_robust_rf_results.tsv\", 'w')\n",
    "\n",
    "out_f.write(output_string)\n",
    "\n",
    "out_f.close()"
   ]
  },
  {
   "cell_type": "code",
   "execution_count": 31,
   "metadata": {},
   "outputs": [],
   "source": [
    "output_seq = open('../results/robust_svm_output.txt', 'r')\n",
    "\n",
    "group = []\n",
    "grp_open = False\n",
    "data_points = []\n",
    "auc_ix = 1\n",
    "output_string = 'grouping\\t1\\t2\\t3\\t4\\t5\\t6\\t7\\n'\n",
    "\n",
    "for line in output_seq:\n",
    "    if line.startswith('['):\n",
    "        group = ast.literal_eval(line.rstrip())\n",
    "        grp_open = True\n",
    "        continue\n",
    "    if line == \"**BEST**\\n\":\n",
    "        grp_open = False\n",
    "        output_string += '\\t'.join(['_'.join(group), *data_points]) + '\\n'\n",
    "        data_points = []\n",
    "    if grp_open:\n",
    "        data = line.split(': ')\n",
    "        data_points.append(data[auc_ix].rstrip())\n",
    "        \n",
    "\n",
    "output_seq.close()"
   ]
  },
  {
   "cell_type": "code",
   "execution_count": 32,
   "metadata": {},
   "outputs": [],
   "source": [
    "out_f = open(\"../results/auc_robust_svm_results.tsv\", 'w')\n",
    "\n",
    "out_f.write(output_string)\n",
    "\n",
    "out_f.close()"
   ]
  },
  {
   "cell_type": "code",
   "execution_count": 33,
   "metadata": {},
   "outputs": [],
   "source": [
    "output_seq = open('../results/quantile_svm_output.txt', 'r')\n",
    "\n",
    "group = []\n",
    "grp_open = False\n",
    "data_points = []\n",
    "auc_ix = 1\n",
    "output_string = 'grouping\\t1\\t2\\t3\\t4\\t5\\t6\\t7\\n'\n",
    "\n",
    "for line in output_seq:\n",
    "    if line.startswith('['):\n",
    "        group = ast.literal_eval(line.rstrip())\n",
    "        grp_open = True\n",
    "        continue\n",
    "    if line == \"**BEST**\\n\":\n",
    "        grp_open = False\n",
    "        output_string += '\\t'.join(['_'.join(group), *data_points]) + '\\n'\n",
    "        data_points = []\n",
    "    if grp_open:\n",
    "        data = line.split(': ')\n",
    "        data_points.append(data[auc_ix].rstrip())\n",
    "        \n",
    "\n",
    "output_seq.close()"
   ]
  },
  {
   "cell_type": "code",
   "execution_count": 34,
   "metadata": {},
   "outputs": [],
   "source": [
    "out_f = open(\"../results/auc_quantile_svm_results.tsv\", 'w')\n",
    "\n",
    "out_f.write(output_string)\n",
    "\n",
    "out_f.close()"
   ]
  },
  {
   "cell_type": "code",
   "execution_count": 4,
   "metadata": {},
   "outputs": [],
   "source": [
    "output_seq = open('../results/output_quantile_rf.txt', 'r')\n",
    "\n",
    "group = []\n",
    "grp_open = False\n",
    "data_points = []\n",
    "auc_ix = 1\n",
    "output_string = 'grouping\\t1\\t2\\t3\\t4\\t5\\t6\\t7\\n'\n",
    "\n",
    "for line in output_seq:\n",
    "    if line.startswith('['):\n",
    "        group = ast.literal_eval(line.rstrip())\n",
    "        grp_open = True\n",
    "        continue\n",
    "    if line == \"**BEST**\\n\":\n",
    "        grp_open = False\n",
    "        output_string += '\\t'.join(['_'.join(group), *data_points]) + '\\n'\n",
    "        data_points = []\n",
    "    if grp_open:\n",
    "        data = line.split(': ')\n",
    "        data_points.append(data[auc_ix].rstrip())\n",
    "        \n",
    "\n",
    "output_seq.close()"
   ]
  },
  {
   "cell_type": "code",
   "execution_count": 5,
   "metadata": {},
   "outputs": [],
   "source": [
    "out_f = open(\"../results/auc_quantile_rf_results.tsv\", 'w')\n",
    "\n",
    "out_f.write(output_string)\n",
    "\n",
    "out_f.close()"
   ]
  },
  {
   "cell_type": "code",
   "execution_count": null,
   "metadata": {},
   "outputs": [],
   "source": []
  }
 ],
 "metadata": {
  "kernelspec": {
   "display_name": "Python 3",
   "language": "python",
   "name": "python3"
  },
  "language_info": {
   "codemirror_mode": {
    "name": "ipython",
    "version": 3
   },
   "file_extension": ".py",
   "mimetype": "text/x-python",
   "name": "python",
   "nbconvert_exporter": "python",
   "pygments_lexer": "ipython3",
   "version": "3.6.3"
  }
 },
 "nbformat": 4,
 "nbformat_minor": 2
}
