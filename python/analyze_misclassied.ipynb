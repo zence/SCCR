{
 "cells": [
  {
   "cell_type": "markdown",
   "metadata": {},
   "source": [
    "# Use sklearn to analyze misclassified samples\n",
    "\n",
    "- To do:\n",
    "  1. Find a way to visualize algorithm decisions\n",
    "     - Make graphs comparing ERBB2 and something else\n",
    "\n",
    "- Notes:\n",
    "  - Lime does *_not_* work in `Jupyter Lab`"
   ]
  },
  {
   "cell_type": "code",
   "execution_count": 1,
   "metadata": {},
   "outputs": [],
   "source": [
    "from sklearn.ensemble import RandomForestClassifier\n",
    "from sklearn.gaussian_process import GaussianProcessClassifier\n",
    "from sklearn.svm import SVC\n",
    "from sklearn.neural_network import MLPClassifier\n",
    "from sklearn.metrics import roc_auc_score\n",
    "from sklearn.model_selection import StratifiedKFold\n",
    "from sklearn.tree import export_graphviz\n",
    "from mlxtend.plotting import plot_decision_regions\n",
    "\n",
    "import matplotlib.pyplot as plt\n",
    "import numpy as np\n",
    "import pandas as pd\n",
    "import graphviz"
   ]
  },
  {
   "cell_type": "code",
   "execution_count": 2,
   "metadata": {},
   "outputs": [],
   "source": [
    "# Found on http://scikit-learn.org/stable/auto_examples/svm/plot_iris.html\n",
    "def make_meshgrid(x, y, h=.02):\n",
    "    \"\"\"Create a mesh of points to plot in\n",
    "\n",
    "    Parameters\n",
    "    ----------\n",
    "    x: data to base x-axis meshgrid on\n",
    "    y: data to base y-axis meshgrid on\n",
    "    h: stepsize for meshgrid, optional\n",
    "\n",
    "    Returns\n",
    "    -------\n",
    "    xx, yy : ndarray\n",
    "    \"\"\"\n",
    "    x_min, x_max = x.min() - 1, x.max() + 1\n",
    "    y_min, y_max = y.min() - 1, y.max() + 1\n",
    "    xx, yy = np.meshgrid(np.arange(x_min, x_max, h),\n",
    "                         np.arange(y_min, y_max, h))\n",
    "    return xx, yy\n",
    "\n",
    "def plot_contours(ax, clf, xx, yy, **params):\n",
    "    \"\"\"Plot the decision boundaries for a classifier.\n",
    "\n",
    "    Parameters\n",
    "    ----------\n",
    "    ax: matplotlib axes object\n",
    "    clf: a classifier\n",
    "    xx: meshgrid ndarray\n",
    "    yy: meshgrid ndarray\n",
    "    params: dictionary of params to pass to contourf, optional\n",
    "    \"\"\"\n",
    "    Z = clf.predict(np.c_[xx.ravel(), yy.ravel()])\n",
    "    Z = Z.reshape(xx.shape)\n",
    "    out = ax.contourf(xx, yy, Z, **params)\n",
    "    return out"
   ]
  },
  {
   "cell_type": "code",
   "execution_count": 3,
   "metadata": {},
   "outputs": [],
   "source": [
    "# This returns the indices where two lists do not match values\n",
    "#NOTE: Lists must be of equal length\n",
    "\n",
    "def compare_lists(x, y):\n",
    "    discrepancies = []\n",
    "    for i in range(len(x)):\n",
    "        if x[i] != y[i]:\n",
    "            discrepancies.append(i)\n",
    "    return discrepancies"
   ]
  },
  {
   "cell_type": "code",
   "execution_count": 4,
   "metadata": {},
   "outputs": [],
   "source": [
    "# Load data that has been previously classified by SVM\n",
    "svm_data = pd.read_csv(\"../data/svm_genes_TPM.tsv.gz\", sep=\"\\t\")\n",
    "# Grab only the HER2 Positive samples\n",
    "svm_data = svm_data[svm_data['her2_status_by_ihc'] == \"Positive\"]"
   ]
  },
  {
   "cell_type": "code",
   "execution_count": 5,
   "metadata": {},
   "outputs": [],
   "source": [
    "# Load data that has been previously classified by RandomForest\n",
    "rf_data = pd.read_csv(\"../data/rf_genes_TPM.tsv.gz\", sep=\"\\t\")"
   ]
  },
  {
   "cell_type": "code",
   "execution_count": 6,
   "metadata": {},
   "outputs": [],
   "source": [
    "\n",
    "svm_expr = svm_data.iloc[:,:-3]\n",
    "svm_target = pd.DataFrame(data=svm_data['SVM_classified'])\n",
    "svm_target['SVM_classified'] = (svm_target['SVM_classified'] == \"Correct\").astype(int)"
   ]
  },
  {
   "cell_type": "markdown",
   "metadata": {},
   "source": [
    "## Random Forest on misclassified samples\n",
    "\n",
    "#### __NOTE:__ uses graphviz to create trees, which is not installed in this docker container, meaning I must convert them to pdf format on my laptop"
   ]
  },
  {
   "cell_type": "code",
   "execution_count": 20,
   "metadata": {},
   "outputs": [
    {
     "name": "stdout",
     "output_type": "stream",
     "text": [
      "['TCGA-A2-A0CX-01A-21R-A00Z-07' 'TCGA-A2-A0YG-01A-21R-A109-07'\n",
      " 'TCGA-A8-A07I-01A-11R-A00Z-07' 'TCGA-BH-A1EV-01A-11R-A137-07'\n",
      " 'TCGA-C8-A12Q-01A-11R-A115-07']\n",
      "0.75\n",
      "['TCGA-A8-A08B-01A-11R-A00Z-07' 'TCGA-AN-A04C-01A-21R-A034-07'\n",
      " 'TCGA-AO-A03L-01A-41R-A056-07' 'TCGA-AO-A0JE-01A-11R-A056-07'\n",
      " 'TCGA-EW-A1IW-01A-11R-A13Q-07']\n",
      "0.80652173913\n",
      "['TCGA-3C-AALI-01A-11R-A41B-07' 'TCGA-A2-A3XZ-01A-42R-A239-07'\n",
      " 'TCGA-AN-A0FV-01A-11R-A00Z-07' 'TCGA-AO-A0JM-01A-21R-A056-07'\n",
      " 'TCGA-BH-A0DZ-01A-11R-A00Z-07' 'TCGA-D8-A27N-01A-11R-A16F-07']\n",
      "0.728260869565\n",
      "['TCGA-A1-A0SM-01A-11R-A084-07' 'TCGA-A2-A0T1-01A-21R-A084-07'\n",
      " 'TCGA-A8-A09G-01A-21R-A00Z-07' 'TCGA-BH-A0AW-01A-11R-A056-07'\n",
      " 'TCGA-BH-A0B7-01A-12R-A115-07' 'TCGA-C8-A137-01A-11R-A115-07'\n",
      " 'TCGA-D8-A1JA-01A-11R-A13Q-07' 'TCGA-E2-A14P-01A-31R-A12D-07']\n",
      "0.627272727273\n",
      "['TCGA-3C-AALK-01A-11R-A41B-07' 'TCGA-A8-A076-01A-21R-A00Z-07'\n",
      " 'TCGA-AQ-A0Y5-01A-11R-A14M-07' 'TCGA-C8-A8HP-01A-11R-A36F-07'\n",
      " 'TCGA-E2-A14V-01A-11R-A12D-07' 'TCGA-E2-A1LB-01A-11R-A144-07']\n",
      "0.666666666667\n"
     ]
    }
   ],
   "source": [
    "kf = StratifiedKFold(n_splits=5, shuffle=True, random_state=0)\n",
    "\n",
    "auc_vals = []\n",
    "ix = 0\n",
    "\n",
    "for train, test in kf.split(svm_expr, svm_target):\n",
    "    clf = RandomForestClassifier(random_state=0)\n",
    "    \n",
    "    X_train, X_test = svm_expr.values[train], svm_expr.values[test]\n",
    "    y_train, y_test = svm_target.values[train], svm_target.values[test]\n",
    "    \n",
    "    clf.fit(X_train, y_train.ravel())\n",
    "    \n",
    "    testing_ids = svm_data['Sample'].values[test]\n",
    "    \n",
    "    predictions = clf.predict(X_test)\n",
    "    \n",
    "    misclassied = compare_lists(y_test.ravel(), predictions)\n",
    "    \n",
    "    print(testing_ids[misclassied])\n",
    "    \n",
    "    print(roc_auc_score(y_test.ravel(), predictions))\n",
    "    \n",
    "    export_graphviz(clf.estimators_[0],\n",
    "                    out_file='_'.join([\"../temp/misclassied\", str(ix), \"tree.dot\"]),\n",
    "                    feature_names=list(svm_expr),\n",
    "                    class_names=[\"Misclassified\", \"Correct\"],\n",
    "                    filled=True,\n",
    "                    rounded=True)\n",
    "    ix += 1\n"
   ]
  },
  {
   "cell_type": "markdown",
   "metadata": {},
   "source": [
    "## Gaussian Process"
   ]
  },
  {
   "cell_type": "code",
   "execution_count": 8,
   "metadata": {},
   "outputs": [
    {
     "name": "stdout",
     "output_type": "stream",
     "text": [
      "['TCGA-A2-A0CX-01A-21R-A00Z-07' 'TCGA-A2-A0YG-01A-21R-A109-07'\n",
      " 'TCGA-A8-A07I-01A-11R-A00Z-07' 'TCGA-BH-A0HY-01A-11R-A056-07'\n",
      " 'TCGA-BH-A1EV-01A-11R-A137-07' 'TCGA-BH-A202-01A-11R-A14M-07'\n",
      " 'TCGA-C8-A12Q-01A-11R-A115-07' 'TCGA-C8-A135-01A-11R-A115-07'\n",
      " 'TCGA-C8-A1HK-01A-21R-A13Q-07' 'TCGA-D8-A1J9-01A-11R-A13Q-07']\n",
      "0.5\n"
     ]
    },
    {
     "ename": "ValueError",
     "evalue": "XA and XB must have the same number of columns (i.e. feature dimension.)",
     "output_type": "error",
     "traceback": [
      "\u001b[0;31m---------------------------------------------------------------------------\u001b[0m",
      "\u001b[0;31mValueError\u001b[0m                                Traceback (most recent call last)",
      "\u001b[0;32m<ipython-input-8-58ae21d8f395>\u001b[0m in \u001b[0;36m<module>\u001b[0;34m()\u001b[0m\n\u001b[1;32m     27\u001b[0m \u001b[0;34m\u001b[0m\u001b[0m\n\u001b[1;32m     28\u001b[0m     plot_decision_regions(X=X_test[:,[erbb2_ix, igf1r_ix]],\n\u001b[0;32m---> 29\u001b[0;31m                          y=y_test.ravel(), clf=clf, legend=2)\n\u001b[0m\u001b[1;32m     30\u001b[0m \u001b[0;34m\u001b[0m\u001b[0m\n\u001b[1;32m     31\u001b[0m     \u001b[0mix\u001b[0m \u001b[0;34m+=\u001b[0m \u001b[0;36m1\u001b[0m\u001b[0;34m\u001b[0m\u001b[0m\n",
      "\u001b[0;32m/opt/conda/lib/python3.6/site-packages/mlxtend/plotting/decision_regions.py\u001b[0m in \u001b[0;36mplot_decision_regions\u001b[0;34m(X, y, clf, feature_index, filler_feature_values, filler_feature_ranges, ax, X_highlight, res, legend, hide_spines, markers, colors, scatter_kwargs, contourf_kwargs, scatter_highlight_kwargs)\u001b[0m\n\u001b[1;32m    223\u001b[0m             \u001b[0;32mfor\u001b[0m \u001b[0mfeature_idx\u001b[0m \u001b[0;32min\u001b[0m \u001b[0mfiller_feature_values\u001b[0m\u001b[0;34m:\u001b[0m\u001b[0;34m\u001b[0m\u001b[0m\n\u001b[1;32m    224\u001b[0m                 \u001b[0mX_predict\u001b[0m\u001b[0;34m[\u001b[0m\u001b[0;34m:\u001b[0m\u001b[0;34m,\u001b[0m \u001b[0mfeature_idx\u001b[0m\u001b[0;34m]\u001b[0m \u001b[0;34m=\u001b[0m \u001b[0mfiller_feature_values\u001b[0m\u001b[0;34m[\u001b[0m\u001b[0mfeature_idx\u001b[0m\u001b[0;34m]\u001b[0m\u001b[0;34m\u001b[0m\u001b[0m\n\u001b[0;32m--> 225\u001b[0;31m     \u001b[0mZ\u001b[0m \u001b[0;34m=\u001b[0m \u001b[0mclf\u001b[0m\u001b[0;34m.\u001b[0m\u001b[0mpredict\u001b[0m\u001b[0;34m(\u001b[0m\u001b[0mX_predict\u001b[0m\u001b[0;34m.\u001b[0m\u001b[0mastype\u001b[0m\u001b[0;34m(\u001b[0m\u001b[0mX\u001b[0m\u001b[0;34m.\u001b[0m\u001b[0mdtype\u001b[0m\u001b[0;34m)\u001b[0m\u001b[0;34m)\u001b[0m\u001b[0;34m\u001b[0m\u001b[0m\n\u001b[0m\u001b[1;32m    226\u001b[0m     \u001b[0mZ\u001b[0m \u001b[0;34m=\u001b[0m \u001b[0mZ\u001b[0m\u001b[0;34m.\u001b[0m\u001b[0mreshape\u001b[0m\u001b[0;34m(\u001b[0m\u001b[0mxx\u001b[0m\u001b[0;34m.\u001b[0m\u001b[0mshape\u001b[0m\u001b[0;34m)\u001b[0m\u001b[0;34m\u001b[0m\u001b[0m\n\u001b[1;32m    227\u001b[0m     \u001b[0;31m# Plot decisoin region\u001b[0m\u001b[0;34m\u001b[0m\u001b[0;34m\u001b[0m\u001b[0m\n",
      "\u001b[0;32m/opt/conda/lib/python3.6/site-packages/sklearn/gaussian_process/gpc.py\u001b[0m in \u001b[0;36mpredict\u001b[0;34m(self, X)\u001b[0m\n\u001b[1;32m    637\u001b[0m         \u001b[0mcheck_is_fitted\u001b[0m\u001b[0;34m(\u001b[0m\u001b[0mself\u001b[0m\u001b[0;34m,\u001b[0m \u001b[0;34m[\u001b[0m\u001b[0;34m\"classes_\"\u001b[0m\u001b[0;34m,\u001b[0m \u001b[0;34m\"n_classes_\"\u001b[0m\u001b[0;34m]\u001b[0m\u001b[0;34m)\u001b[0m\u001b[0;34m\u001b[0m\u001b[0m\n\u001b[1;32m    638\u001b[0m         \u001b[0mX\u001b[0m \u001b[0;34m=\u001b[0m \u001b[0mcheck_array\u001b[0m\u001b[0;34m(\u001b[0m\u001b[0mX\u001b[0m\u001b[0;34m)\u001b[0m\u001b[0;34m\u001b[0m\u001b[0m\n\u001b[0;32m--> 639\u001b[0;31m         \u001b[0;32mreturn\u001b[0m \u001b[0mself\u001b[0m\u001b[0;34m.\u001b[0m\u001b[0mbase_estimator_\u001b[0m\u001b[0;34m.\u001b[0m\u001b[0mpredict\u001b[0m\u001b[0;34m(\u001b[0m\u001b[0mX\u001b[0m\u001b[0;34m)\u001b[0m\u001b[0;34m\u001b[0m\u001b[0m\n\u001b[0m\u001b[1;32m    640\u001b[0m \u001b[0;34m\u001b[0m\u001b[0m\n\u001b[1;32m    641\u001b[0m     \u001b[0;32mdef\u001b[0m \u001b[0mpredict_proba\u001b[0m\u001b[0;34m(\u001b[0m\u001b[0mself\u001b[0m\u001b[0;34m,\u001b[0m \u001b[0mX\u001b[0m\u001b[0;34m)\u001b[0m\u001b[0;34m:\u001b[0m\u001b[0;34m\u001b[0m\u001b[0m\n",
      "\u001b[0;32m/opt/conda/lib/python3.6/site-packages/sklearn/gaussian_process/gpc.py\u001b[0m in \u001b[0;36mpredict\u001b[0;34m(self, X)\u001b[0m\n\u001b[1;32m    258\u001b[0m         \u001b[0;31m# decisions, it is enough to compute the MAP of the posterior and\u001b[0m\u001b[0;34m\u001b[0m\u001b[0;34m\u001b[0m\u001b[0m\n\u001b[1;32m    259\u001b[0m         \u001b[0;31m# pass it through the link function\u001b[0m\u001b[0;34m\u001b[0m\u001b[0;34m\u001b[0m\u001b[0m\n\u001b[0;32m--> 260\u001b[0;31m         \u001b[0mK_star\u001b[0m \u001b[0;34m=\u001b[0m \u001b[0mself\u001b[0m\u001b[0;34m.\u001b[0m\u001b[0mkernel_\u001b[0m\u001b[0;34m(\u001b[0m\u001b[0mself\u001b[0m\u001b[0;34m.\u001b[0m\u001b[0mX_train_\u001b[0m\u001b[0;34m,\u001b[0m \u001b[0mX\u001b[0m\u001b[0;34m)\u001b[0m  \u001b[0;31m# K_star =k(x_star)\u001b[0m\u001b[0;34m\u001b[0m\u001b[0m\n\u001b[0m\u001b[1;32m    261\u001b[0m         \u001b[0mf_star\u001b[0m \u001b[0;34m=\u001b[0m \u001b[0mK_star\u001b[0m\u001b[0;34m.\u001b[0m\u001b[0mT\u001b[0m\u001b[0;34m.\u001b[0m\u001b[0mdot\u001b[0m\u001b[0;34m(\u001b[0m\u001b[0mself\u001b[0m\u001b[0;34m.\u001b[0m\u001b[0my_train_\u001b[0m \u001b[0;34m-\u001b[0m \u001b[0mself\u001b[0m\u001b[0;34m.\u001b[0m\u001b[0mpi_\u001b[0m\u001b[0;34m)\u001b[0m  \u001b[0;31m# Algorithm 3.2,Line 4\u001b[0m\u001b[0;34m\u001b[0m\u001b[0m\n\u001b[1;32m    262\u001b[0m \u001b[0;34m\u001b[0m\u001b[0m\n",
      "\u001b[0;32m/opt/conda/lib/python3.6/site-packages/sklearn/gaussian_process/kernels.py\u001b[0m in \u001b[0;36m__call__\u001b[0;34m(self, X, Y, eval_gradient)\u001b[0m\n\u001b[1;32m    756\u001b[0m                                        K2_gradient * K1[:, :, np.newaxis]))\n\u001b[1;32m    757\u001b[0m         \u001b[0;32melse\u001b[0m\u001b[0;34m:\u001b[0m\u001b[0;34m\u001b[0m\u001b[0m\n\u001b[0;32m--> 758\u001b[0;31m             \u001b[0;32mreturn\u001b[0m \u001b[0mself\u001b[0m\u001b[0;34m.\u001b[0m\u001b[0mk1\u001b[0m\u001b[0;34m(\u001b[0m\u001b[0mX\u001b[0m\u001b[0;34m,\u001b[0m \u001b[0mY\u001b[0m\u001b[0;34m)\u001b[0m \u001b[0;34m*\u001b[0m \u001b[0mself\u001b[0m\u001b[0;34m.\u001b[0m\u001b[0mk2\u001b[0m\u001b[0;34m(\u001b[0m\u001b[0mX\u001b[0m\u001b[0;34m,\u001b[0m \u001b[0mY\u001b[0m\u001b[0;34m)\u001b[0m\u001b[0;34m\u001b[0m\u001b[0m\n\u001b[0m\u001b[1;32m    759\u001b[0m \u001b[0;34m\u001b[0m\u001b[0m\n\u001b[1;32m    760\u001b[0m     \u001b[0;32mdef\u001b[0m \u001b[0mdiag\u001b[0m\u001b[0;34m(\u001b[0m\u001b[0mself\u001b[0m\u001b[0;34m,\u001b[0m \u001b[0mX\u001b[0m\u001b[0;34m)\u001b[0m\u001b[0;34m:\u001b[0m\u001b[0;34m\u001b[0m\u001b[0m\n",
      "\u001b[0;32m/opt/conda/lib/python3.6/site-packages/sklearn/gaussian_process/kernels.py\u001b[0m in \u001b[0;36m__call__\u001b[0;34m(self, X, Y, eval_gradient)\u001b[0m\n\u001b[1;32m   1213\u001b[0m                     \"Gradient can only be evaluated when Y is None.\")\n\u001b[1;32m   1214\u001b[0m             dists = cdist(X / length_scale, Y / length_scale,\n\u001b[0;32m-> 1215\u001b[0;31m                           metric='sqeuclidean')\n\u001b[0m\u001b[1;32m   1216\u001b[0m             \u001b[0mK\u001b[0m \u001b[0;34m=\u001b[0m \u001b[0mnp\u001b[0m\u001b[0;34m.\u001b[0m\u001b[0mexp\u001b[0m\u001b[0;34m(\u001b[0m\u001b[0;34m-\u001b[0m\u001b[0;36m.5\u001b[0m \u001b[0;34m*\u001b[0m \u001b[0mdists\u001b[0m\u001b[0;34m)\u001b[0m\u001b[0;34m\u001b[0m\u001b[0m\n\u001b[1;32m   1217\u001b[0m \u001b[0;34m\u001b[0m\u001b[0m\n",
      "\u001b[0;32m/opt/conda/lib/python3.6/site-packages/scipy/spatial/distance.py\u001b[0m in \u001b[0;36mcdist\u001b[0;34m(XA, XB, metric, *args, **kwargs)\u001b[0m\n\u001b[1;32m   2376\u001b[0m         \u001b[0;32mraise\u001b[0m \u001b[0mValueError\u001b[0m\u001b[0;34m(\u001b[0m\u001b[0;34m'XB must be a 2-dimensional array.'\u001b[0m\u001b[0;34m)\u001b[0m\u001b[0;34m\u001b[0m\u001b[0m\n\u001b[1;32m   2377\u001b[0m     \u001b[0;32mif\u001b[0m \u001b[0ms\u001b[0m\u001b[0;34m[\u001b[0m\u001b[0;36m1\u001b[0m\u001b[0;34m]\u001b[0m \u001b[0;34m!=\u001b[0m \u001b[0msB\u001b[0m\u001b[0;34m[\u001b[0m\u001b[0;36m1\u001b[0m\u001b[0;34m]\u001b[0m\u001b[0;34m:\u001b[0m\u001b[0;34m\u001b[0m\u001b[0m\n\u001b[0;32m-> 2378\u001b[0;31m         raise ValueError('XA and XB must have the same number of columns '\n\u001b[0m\u001b[1;32m   2379\u001b[0m                          '(i.e. feature dimension.)')\n\u001b[1;32m   2380\u001b[0m \u001b[0;34m\u001b[0m\u001b[0m\n",
      "\u001b[0;31mValueError\u001b[0m: XA and XB must have the same number of columns (i.e. feature dimension.)"
     ]
    },
    {
     "data": {
      "image/png": "[encoded data removed]",
      "text/plain": [
       "<matplotlib.figure.Figure at 0x7fea728b4eb8>"
      ]
     },
     "metadata": {},
     "output_type": "display_data"
    }
   ],
   "source": [
    "kf = StratifiedKFold(n_splits=5, shuffle=True, random_state=0)\n",
    "\n",
    "auc_vals = []\n",
    "ix = 0\n",
    "\n",
    "erbb2_ix = svm_data.columns.get_loc('ERBB2')\n",
    "igf1r_ix = svm_data.columns.get_loc('IGF1R')\n",
    "\n",
    "\n",
    "for train, test in kf.split(svm_expr, svm_target):\n",
    "    clf = GaussianProcessClassifier(random_state=0)\n",
    "    \n",
    "    X_train, X_test = svm_expr.values[train], svm_expr.values[test]\n",
    "    y_train, y_test = svm_target.values[train], svm_target.values[test]\n",
    "    \n",
    "    clf.fit(X_train, y_train.ravel())\n",
    "    \n",
    "    testing_ids = svm_data['Sample'].values[test]\n",
    "    \n",
    "    predictions = clf.predict(X_test)\n",
    "    \n",
    "    misclassied = compare_lists(y_test.ravel(), predictions)\n",
    "    \n",
    "    print(testing_ids[misclassied])\n",
    "    \n",
    "    print(roc_auc_score(y_test.ravel(), predictions))\n",
    "    \n",
    "    plot_decision_regions(X=X_test[:,[erbb2_ix, igf1r_ix]],\n",
    "                         y=y_test.ravel(), clf=clf, legend=2)\n",
    "    \n",
    "    ix += 1\n",
    "    \n",
    "\n",
    "    "
   ]
  },
  {
   "cell_type": "markdown",
   "metadata": {},
   "source": [
    "## SVM on misclassified samples"
   ]
  },
  {
   "cell_type": "code",
   "execution_count": 11,
   "metadata": {},
   "outputs": [
    {
     "name": "stdout",
     "output_type": "stream",
     "text": [
      "['TCGA-A2-A0YG-01A-21R-A109-07' 'TCGA-A8-A07I-01A-11R-A00Z-07'\n",
      " 'TCGA-BH-A1EV-01A-11R-A137-07' 'TCGA-C8-A12Q-01A-11R-A115-07']\n",
      "0.8\n"
     ]
    },
    {
     "name": "stderr",
     "output_type": "stream",
     "text": [
      "/opt/conda/lib/python3.6/site-packages/matplotlib/contour.py:1180: UserWarning: No contour levels were found within the data range.\n",
      "  warnings.warn(\"No contour levels were found\"\n"
     ]
    },
    {
     "name": "stdout",
     "output_type": "stream",
     "text": [
      "['TCGA-A8-A08B-01A-11R-A00Z-07' 'TCGA-AN-A04C-01A-21R-A034-07'\n",
      " 'TCGA-AO-A0JE-01A-11R-A056-07' 'TCGA-BH-A18R-01A-11R-A12D-07'\n",
      " 'TCGA-BH-A18U-01A-21R-A12D-07' 'TCGA-C8-A12P-01A-11R-A115-07'\n",
      " 'TCGA-E2-A1B0-01A-11R-A12P-07' 'TCGA-EW-A1IW-01A-11R-A13Q-07']\n",
      "0.628260869565\n"
     ]
    },
    {
     "ename": "KeyboardInterrupt",
     "evalue": "",
     "output_type": "error",
     "traceback": [
      "\u001b[0;31m---------------------------------------------------------------------------\u001b[0m",
      "\u001b[0;31mKeyboardInterrupt\u001b[0m                         Traceback (most recent call last)",
      "\u001b[0;32m<ipython-input-11-c9b2b7b61f5a>\u001b[0m in \u001b[0;36m<module>\u001b[0;34m()\u001b[0m\n\u001b[1;32m     28\u001b[0m     plot_decision_regions(X=X_test,\n\u001b[1;32m     29\u001b[0m                          \u001b[0my\u001b[0m\u001b[0;34m=\u001b[0m\u001b[0my_test\u001b[0m\u001b[0;34m.\u001b[0m\u001b[0mravel\u001b[0m\u001b[0;34m(\u001b[0m\u001b[0;34m)\u001b[0m\u001b[0;34m,\u001b[0m \u001b[0mclf\u001b[0m\u001b[0;34m=\u001b[0m\u001b[0mclf\u001b[0m\u001b[0;34m,\u001b[0m \u001b[0mlegend\u001b[0m\u001b[0;34m=\u001b[0m\u001b[0;36m2\u001b[0m\u001b[0;34m,\u001b[0m \u001b[0mfeature_index\u001b[0m\u001b[0;34m=\u001b[0m\u001b[0;34m[\u001b[0m\u001b[0merbb2_ix\u001b[0m\u001b[0;34m,\u001b[0m \u001b[0migf1r_ix\u001b[0m\u001b[0;34m]\u001b[0m\u001b[0;34m,\u001b[0m\u001b[0;34m\u001b[0m\u001b[0m\n\u001b[0;32m---> 30\u001b[0;31m                           filler_feature_values=filler_vals)\n\u001b[0m",
      "\u001b[0;32m/opt/conda/lib/python3.6/site-packages/mlxtend/plotting/decision_regions.py\u001b[0m in \u001b[0;36mplot_decision_regions\u001b[0;34m(X, y, clf, feature_index, filler_feature_values, filler_feature_ranges, ax, X_highlight, res, legend, hide_spines, markers, colors, scatter_kwargs, contourf_kwargs, scatter_highlight_kwargs)\u001b[0m\n\u001b[1;32m    222\u001b[0m         \u001b[0;32mif\u001b[0m \u001b[0mdim\u001b[0m \u001b[0;34m>\u001b[0m \u001b[0;36m2\u001b[0m\u001b[0;34m:\u001b[0m\u001b[0;34m\u001b[0m\u001b[0m\n\u001b[1;32m    223\u001b[0m             \u001b[0;32mfor\u001b[0m \u001b[0mfeature_idx\u001b[0m \u001b[0;32min\u001b[0m \u001b[0mfiller_feature_values\u001b[0m\u001b[0;34m:\u001b[0m\u001b[0;34m\u001b[0m\u001b[0m\n\u001b[0;32m--> 224\u001b[0;31m                 \u001b[0mX_predict\u001b[0m\u001b[0;34m[\u001b[0m\u001b[0;34m:\u001b[0m\u001b[0;34m,\u001b[0m \u001b[0mfeature_idx\u001b[0m\u001b[0;34m]\u001b[0m \u001b[0;34m=\u001b[0m \u001b[0mfiller_feature_values\u001b[0m\u001b[0;34m[\u001b[0m\u001b[0mfeature_idx\u001b[0m\u001b[0;34m]\u001b[0m\u001b[0;34m\u001b[0m\u001b[0m\n\u001b[0m\u001b[1;32m    225\u001b[0m     \u001b[0mZ\u001b[0m \u001b[0;34m=\u001b[0m \u001b[0mclf\u001b[0m\u001b[0;34m.\u001b[0m\u001b[0mpredict\u001b[0m\u001b[0;34m(\u001b[0m\u001b[0mX_predict\u001b[0m\u001b[0;34m.\u001b[0m\u001b[0mastype\u001b[0m\u001b[0;34m(\u001b[0m\u001b[0mX\u001b[0m\u001b[0;34m.\u001b[0m\u001b[0mdtype\u001b[0m\u001b[0;34m)\u001b[0m\u001b[0;34m)\u001b[0m\u001b[0;34m\u001b[0m\u001b[0m\n\u001b[1;32m    226\u001b[0m     \u001b[0mZ\u001b[0m \u001b[0;34m=\u001b[0m \u001b[0mZ\u001b[0m\u001b[0;34m.\u001b[0m\u001b[0mreshape\u001b[0m\u001b[0;34m(\u001b[0m\u001b[0mxx\u001b[0m\u001b[0;34m.\u001b[0m\u001b[0mshape\u001b[0m\u001b[0;34m)\u001b[0m\u001b[0;34m\u001b[0m\u001b[0m\n",
      "\u001b[0;31mKeyboardInterrupt\u001b[0m: "
     ]
    },
    {
     "data": {
      "image/png": "[encoded data removed]",
      "text/plain": [
       "<matplotlib.figure.Figure at 0x7fea732dfa20>"
      ]
     },
     "metadata": {},
     "output_type": "display_data"
    }
   ],
   "source": [
    "kf = StratifiedKFold(n_splits=5, shuffle=True, random_state=0)\n",
    "\n",
    "auc_vals = []\n",
    "\n",
    "filler_vals = {k:0 for k,v in enumerate(list(svm_data)) if v not in ['ERBB2', 'IFG1R', 'Sample', 'her2_status_by_ihc', 'SVM_classified']}\n",
    "#print(filler_vals)\n",
    "\n",
    "for train, test in kf.split(svm_expr, svm_target):\n",
    "    clf = SVC(random_state=0)\n",
    "    \n",
    "    X_train, X_test = svm_expr.values[train], svm_expr.values[test]\n",
    "    y_train, y_test = svm_target.values[train], svm_target.values[test]\n",
    "    \n",
    "    clf.fit(X_train, y_train.ravel())\n",
    "    \n",
    "    testing_ids = svm_data['Sample'].values[test]\n",
    "    \n",
    "    predictions = clf.predict(X_test)\n",
    "    \n",
    "    misclassied = compare_lists(y_test.ravel(), predictions)\n",
    "    \n",
    "    print(testing_ids[misclassied])\n",
    "    \n",
    "    print(roc_auc_score(y_test.ravel(), predictions))\n",
    "    \n",
    "    \n",
    "    \n",
    "    plot_decision_regions(X=X_test,\n",
    "                         y=y_test.ravel(), clf=clf, legend=2, feature_index=[erbb2_ix, igf1r_ix],\n",
    "                          filler_feature_values=filler_vals)"
   ]
  },
  {
   "cell_type": "markdown",
   "metadata": {},
   "source": [
    "## Multi-layer Perceptron on this biz"
   ]
  },
  {
   "cell_type": "code",
   "execution_count": 23,
   "metadata": {},
   "outputs": [
    {
     "name": "stdout",
     "output_type": "stream",
     "text": [
      "['TCGA-A2-A0CX-01A-21R-A00Z-07' 'TCGA-A2-A0D1-01A-11R-A034-07'\n",
      " 'TCGA-A8-A075-01A-11R-A084-07' 'TCGA-A8-A07I-01A-11R-A00Z-07'\n",
      " 'TCGA-A8-A07R-01A-21R-A034-07' 'TCGA-AC-A2FB-01A-11R-A17B-07'\n",
      " 'TCGA-AQ-A04L-01B-21R-A10J-07' 'TCGA-AR-A24U-01A-11R-A169-07'\n",
      " 'TCGA-BH-A1EN-01A-11R-A13Q-07' 'TCGA-BH-A202-01A-11R-A14M-07']\n",
      "0.697826086957\n",
      "['TCGA-A2-A04W-01A-31R-A115-07' 'TCGA-AC-A8OS-01A-12R-A41B-07'\n",
      " 'TCGA-AN-A04C-01A-21R-A034-07' 'TCGA-AO-A0JE-01A-11R-A056-07'\n",
      " 'TCGA-AO-A12D-01A-11R-A115-07' 'TCGA-BH-A18R-01A-11R-A12D-07'\n",
      " 'TCGA-BH-A18U-01A-21R-A12D-07' 'TCGA-C8-A12Z-01A-11R-A115-07'\n",
      " 'TCGA-EW-A1IW-01A-11R-A13Q-07' 'TCGA-EW-A6S9-01A-22R-A33J-07']\n",
      "0.584782608696\n",
      "['TCGA-3C-AALI-01A-11R-A41B-07' 'TCGA-A7-A2KD-01A-31R-A21T-07'\n",
      " 'TCGA-A8-A09I-01A-22R-A034-07' 'TCGA-AC-A23C-01A-12R-A169-07'\n",
      " 'TCGA-AO-A0JM-01A-21R-A056-07' 'TCGA-AR-A254-01A-21R-A169-07'\n",
      " 'TCGA-BH-A0DZ-01A-11R-A00Z-07' 'TCGA-D8-A27N-01A-11R-A16F-07']\n",
      "0.684782608696\n",
      "['TCGA-A2-A0T1-01A-21R-A084-07' 'TCGA-BH-A0AW-01A-11R-A056-07'\n",
      " 'TCGA-BH-A18Q-01A-12R-A12D-07' 'TCGA-C8-A137-01A-11R-A115-07'\n",
      " 'TCGA-C8-A1HF-01A-11R-A137-07' 'TCGA-D8-A1JA-01A-11R-A13Q-07'\n",
      " 'TCGA-E9-A22G-01A-11R-A157-07' 'TCGA-S3-AA14-01A-11R-A41B-07']\n",
      "0.709090909091\n",
      "['TCGA-3C-AALK-01A-11R-A41B-07' 'TCGA-A2-A04X-01A-21R-A034-07'\n",
      " 'TCGA-A8-A076-01A-21R-A00Z-07' 'TCGA-AN-A0FJ-01A-11R-A00Z-07'\n",
      " 'TCGA-AQ-A0Y5-01A-11R-A14M-07' 'TCGA-BH-A18T-01A-11R-A12D-07'\n",
      " 'TCGA-C8-A8HP-01A-11R-A36F-07' 'TCGA-E2-A14V-01A-11R-A12D-07'\n",
      " 'TCGA-E9-A1N6-01A-11R-A144-07']\n",
      "0.598484848485\n"
     ]
    }
   ],
   "source": [
    "kf = StratifiedKFold(n_splits=5, shuffle=True, random_state=0)\n",
    "\n",
    "auc_vals = []\n",
    "\n",
    "for train, test in kf.split(svm_expr, svm_target):\n",
    "    clf = MLPClassifier(random_state=0)\n",
    "    \n",
    "    X_train, X_test = svm_expr.values[train], svm_expr.values[test]\n",
    "    y_train, y_test = svm_target.values[train], svm_target.values[test]\n",
    "    \n",
    "    clf.fit(X_train, y_train.ravel())\n",
    "    \n",
    "    testing_ids = svm_data['Sample'].values[test]\n",
    "    \n",
    "    predictions = clf.predict(X_test)\n",
    "    \n",
    "    misclassied = compare_lists(y_test.ravel(), predictions)\n",
    "    \n",
    "    print(testing_ids[misclassied])\n",
    "    \n",
    "    print(roc_auc_score(y_test.ravel(), predictions))"
   ]
  },
  {
   "cell_type": "code",
   "execution_count": null,
   "metadata": {},
   "outputs": [],
   "source": []
  }
 ],
 "metadata": {
  "kernelspec": {
   "display_name": "Python 3",
   "language": "python",
   "name": "python3"
  },
  "language_info": {
   "codemirror_mode": {
    "name": "ipython",
    "version": 3
   },
   "file_extension": ".py",
   "mimetype": "text/x-python",
   "name": "python",
   "nbconvert_exporter": "python",
   "pygments_lexer": "ipython3",
   "version": "3.6.3"
  }
 },
 "nbformat": 4,
 "nbformat_minor": 2
}
