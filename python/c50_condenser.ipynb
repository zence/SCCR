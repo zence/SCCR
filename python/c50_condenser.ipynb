{
 "cells": [
  {
   "cell_type": "code",
   "execution_count": 4,
   "metadata": {},
   "outputs": [
    {
     "name": "stdout",
     "output_type": "stream",
     "text": [
      "Average AUC: 0.93248507\n"
     ]
    }
   ],
   "source": [
    "total_auc = []\n",
    "\n",
    "with open(\"../results/ER/c50_trees.txt\", 'r') as in_f:\n",
    "    for line in in_f:\n",
    "        if line.startswith(\"[1]\"):\n",
    "            cur_auc = float(line.split()[1])\n",
    "            total_auc.append(cur_auc)\n",
    "            \n",
    "avg_auc = sum(total_auc) / len(total_auc)\n",
    "\n",
    "print(\"Average AUC: \" + str(avg_auc))\n",
    "            "
   ]
  },
  {
   "cell_type": "code",
   "execution_count": 5,
   "metadata": {},
   "outputs": [
    {
     "name": "stdout",
     "output_type": "stream",
     "text": [
      "Average AUC: 0.92717852\n"
     ]
    }
   ],
   "source": [
    "total_auc = []\n",
    "\n",
    "with open(\"../results/ER/c50_rules.txt\", 'r') as in_f:\n",
    "    for line in in_f:\n",
    "        if line.startswith(\"[1]\"):\n",
    "            cur_auc = float(line.split()[1])\n",
    "            total_auc.append(cur_auc)\n",
    "            \n",
    "avg_auc = sum(total_auc) / len(total_auc)\n",
    "\n",
    "print(\"Average AUC: \" + str(avg_auc))\n",
    "            "
   ]
  },
  {
   "cell_type": "code",
   "execution_count": 6,
   "metadata": {},
   "outputs": [
    {
     "name": "stdout",
     "output_type": "stream",
     "text": [
      "Average AUC: 0.93900858\n"
     ]
    }
   ],
   "source": [
    "total_auc = []\n",
    "\n",
    "with open(\"../results/ER/c50_trees_5.txt\", 'r') as in_f:\n",
    "    for line in in_f:\n",
    "        if line.startswith(\"[1]\"):\n",
    "            cur_auc = float(line.split()[1])\n",
    "            total_auc.append(cur_auc)\n",
    "            \n",
    "avg_auc = sum(total_auc) / len(total_auc)\n",
    "\n",
    "print(\"Average AUC: \" + str(avg_auc))\n",
    "            "
   ]
  },
  {
   "cell_type": "code",
   "execution_count": null,
   "metadata": {},
   "outputs": [],
   "source": []
  }
 ],
 "metadata": {
  "kernelspec": {
   "display_name": "Python 3",
   "language": "python",
   "name": "python3"
  },
  "language_info": {
   "codemirror_mode": {
    "name": "ipython",
    "version": 3
   },
   "file_extension": ".py",
   "mimetype": "text/x-python",
   "name": "python",
   "nbconvert_exporter": "python",
   "pygments_lexer": "ipython3",
   "version": "3.6.3"
  }
 },
 "nbformat": 4,
 "nbformat_minor": 2
}
