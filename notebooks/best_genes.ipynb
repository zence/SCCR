{
 "cells": [
  {
   "cell_type": "code",
   "execution_count": 1,
   "metadata": {},
   "outputs": [
    {
     "name": "stderr",
     "output_type": "stream",
     "text": [
      "Loading required package: readr\n"
     ]
    }
   ],
   "source": [
    "require(readr)"
   ]
  },
  {
   "cell_type": "code",
   "execution_count": 6,
   "metadata": {},
   "outputs": [],
   "source": [
    "normalize <- function(x){(x-min(x))/(max(x)-min(x))}"
   ]
  },
  {
   "cell_type": "code",
   "execution_count": 87,
   "metadata": {},
   "outputs": [],
   "source": [
    "get_score <- function(gene.vec, weight.df){\n",
    "    scores <- c()\n",
    "    for (gene in gene.vec){\n",
    "        score <- 0\n",
    "        cur.score <- 0\n",
    "        for (i in 1:nrow(weight.df)){\n",
    "            gene.group <- weight.df$genes[[i]]\n",
    "            cur.score <- match(gene, gene.group)\n",
    "            if (is.na(cur.score)){\n",
    "                cur.score <- 0\n",
    "            } else {\n",
    "                cur.score <- (length(gene.group) - cur.score) * weight.df$weight[i]\n",
    "            }\n",
    "            score <- score + cur.score\n",
    "            #print(score)\n",
    "        }\n",
    "        scores <- c(scores, score)\n",
    "    }\n",
    "    return(scores)\n",
    "}"
   ]
  },
  {
   "cell_type": "code",
   "execution_count": 28,
   "metadata": {},
   "outputs": [
    {
     "name": "stderr",
     "output_type": "stream",
     "text": [
      "Parsed with column specification:\n",
      "cols(\n",
      "  model = col_character(),\n",
      "  genes = col_character(),\n",
      "  auc = col_double()\n",
      ")\n"
     ]
    }
   ],
   "source": [
    "best.genes <- as.data.frame(read_tsv(\"../results/best_genes.tsv\"))"
   ]
  },
  {
   "cell_type": "code",
   "execution_count": 29,
   "metadata": {},
   "outputs": [
    {
     "data": {
      "text/html": [
       "<table>\n",
       "<thead><tr><th scope=col>model</th><th scope=col>genes</th><th scope=col>auc</th></tr></thead>\n",
       "<tbody>\n",
       "\t<tr><td>LR                                                                 </td><td>ERBB2,PIK3R1,ABL2,BAD,ABL1,MAPK9,SOS2,STAT5B,CBL,SRC,CBLC          </td><td>0.7921931                                                          </td></tr>\n",
       "\t<tr><td>rbfSVM                                                             </td><td>ERBB2,SRC,PIK3R5,SHC4,ABL1,MAPK9,BTC,AKT1,CAMK2A,RPS6KB1,CAMK2G    </td><td>0.7585523                                                          </td></tr>\n",
       "\t<tr><td>RF                                                                 </td><td>ERBB2,PRKCB,MAPK9,MAP2K2,SHC2,CBLC,NRAS,PIK3CD,PIK3R2,JUN,HBEGF    </td><td>0.7792454                                                          </td></tr>\n",
       "\t<tr><td>GradientBoost                                                      </td><td>ERBB2,SRC,PIK3CG,MAPK1,CAMK2G,AKT1,STAT5B,MAP2K4,ERBB4,PLCG1,STAT5A</td><td>0.7803439                                                          </td></tr>\n",
       "\t<tr><td>LinearSVM                                                          </td><td>ERBB2,RPS6KB1,ABL1,ABL2,AKT1,AKT3,BTC,CAMK2A,AKT2,ARAF,SHC3        </td><td>0.7585523                                                          </td></tr>\n",
       "</tbody>\n",
       "</table>\n"
      ],
      "text/latex": [
       "\\begin{tabular}{r|lll}\n",
       " model & genes & auc\\\\\n",
       "\\hline\n",
       "\t LR                                                                  & ERBB2,PIK3R1,ABL2,BAD,ABL1,MAPK9,SOS2,STAT5B,CBL,SRC,CBLC           & 0.7921931                                                          \\\\\n",
       "\t rbfSVM                                                              & ERBB2,SRC,PIK3R5,SHC4,ABL1,MAPK9,BTC,AKT1,CAMK2A,RPS6KB1,CAMK2G     & 0.7585523                                                          \\\\\n",
       "\t RF                                                                  & ERBB2,PRKCB,MAPK9,MAP2K2,SHC2,CBLC,NRAS,PIK3CD,PIK3R2,JUN,HBEGF     & 0.7792454                                                          \\\\\n",
       "\t GradientBoost                                                       & ERBB2,SRC,PIK3CG,MAPK1,CAMK2G,AKT1,STAT5B,MAP2K4,ERBB4,PLCG1,STAT5A & 0.7803439                                                          \\\\\n",
       "\t LinearSVM                                                           & ERBB2,RPS6KB1,ABL1,ABL2,AKT1,AKT3,BTC,CAMK2A,AKT2,ARAF,SHC3         & 0.7585523                                                          \\\\\n",
       "\\end{tabular}\n"
      ],
      "text/markdown": [
       "\n",
       "model | genes | auc | \n",
       "|---|---|---|---|---|\n",
       "| LR                                                                  | ERBB2,PIK3R1,ABL2,BAD,ABL1,MAPK9,SOS2,STAT5B,CBL,SRC,CBLC           | 0.7921931                                                           | \n",
       "| rbfSVM                                                              | ERBB2,SRC,PIK3R5,SHC4,ABL1,MAPK9,BTC,AKT1,CAMK2A,RPS6KB1,CAMK2G     | 0.7585523                                                           | \n",
       "| RF                                                                  | ERBB2,PRKCB,MAPK9,MAP2K2,SHC2,CBLC,NRAS,PIK3CD,PIK3R2,JUN,HBEGF     | 0.7792454                                                           | \n",
       "| GradientBoost                                                       | ERBB2,SRC,PIK3CG,MAPK1,CAMK2G,AKT1,STAT5B,MAP2K4,ERBB4,PLCG1,STAT5A | 0.7803439                                                           | \n",
       "| LinearSVM                                                           | ERBB2,RPS6KB1,ABL1,ABL2,AKT1,AKT3,BTC,CAMK2A,AKT2,ARAF,SHC3         | 0.7585523                                                           | \n",
       "\n",
       "\n"
      ],
      "text/plain": [
       "  model        \n",
       "1 LR           \n",
       "2 rbfSVM       \n",
       "3 RF           \n",
       "4 GradientBoost\n",
       "5 LinearSVM    \n",
       "  genes                                                               auc      \n",
       "1 ERBB2,PIK3R1,ABL2,BAD,ABL1,MAPK9,SOS2,STAT5B,CBL,SRC,CBLC           0.7921931\n",
       "2 ERBB2,SRC,PIK3R5,SHC4,ABL1,MAPK9,BTC,AKT1,CAMK2A,RPS6KB1,CAMK2G     0.7585523\n",
       "3 ERBB2,PRKCB,MAPK9,MAP2K2,SHC2,CBLC,NRAS,PIK3CD,PIK3R2,JUN,HBEGF     0.7792454\n",
       "4 ERBB2,SRC,PIK3CG,MAPK1,CAMK2G,AKT1,STAT5B,MAP2K4,ERBB4,PLCG1,STAT5A 0.7803439\n",
       "5 ERBB2,RPS6KB1,ABL1,ABL2,AKT1,AKT3,BTC,CAMK2A,AKT2,ARAF,SHC3         0.7585523"
      ]
     },
     "metadata": {},
     "output_type": "display_data"
    }
   ],
   "source": [
    "best.genes"
   ]
  },
  {
   "cell_type": "code",
   "execution_count": 30,
   "metadata": {},
   "outputs": [],
   "source": [
    "best.genes$weight <- normalize(best.genes$auc) + 1"
   ]
  },
  {
   "cell_type": "code",
   "execution_count": 34,
   "metadata": {},
   "outputs": [],
   "source": [
    "best.genes$genes <- strsplit(best.genes$genes, split = ',')"
   ]
  },
  {
   "cell_type": "code",
   "execution_count": 38,
   "metadata": {},
   "outputs": [
    {
     "data": {
      "text/html": [
       "<ol class=list-inline>\n",
       "\t<li>'ERBB2'</li>\n",
       "\t<li>'PIK3R1'</li>\n",
       "\t<li>'ABL2'</li>\n",
       "\t<li>'BAD'</li>\n",
       "\t<li>'ABL1'</li>\n",
       "\t<li>'MAPK9'</li>\n",
       "\t<li>'SOS2'</li>\n",
       "\t<li>'STAT5B'</li>\n",
       "\t<li>'CBL'</li>\n",
       "\t<li>'SRC'</li>\n",
       "\t<li>'CBLC'</li>\n",
       "</ol>\n"
      ],
      "text/latex": [
       "\\begin{enumerate*}\n",
       "\\item 'ERBB2'\n",
       "\\item 'PIK3R1'\n",
       "\\item 'ABL2'\n",
       "\\item 'BAD'\n",
       "\\item 'ABL1'\n",
       "\\item 'MAPK9'\n",
       "\\item 'SOS2'\n",
       "\\item 'STAT5B'\n",
       "\\item 'CBL'\n",
       "\\item 'SRC'\n",
       "\\item 'CBLC'\n",
       "\\end{enumerate*}\n"
      ],
      "text/markdown": [
       "1. 'ERBB2'\n",
       "2. 'PIK3R1'\n",
       "3. 'ABL2'\n",
       "4. 'BAD'\n",
       "5. 'ABL1'\n",
       "6. 'MAPK9'\n",
       "7. 'SOS2'\n",
       "8. 'STAT5B'\n",
       "9. 'CBL'\n",
       "10. 'SRC'\n",
       "11. 'CBLC'\n",
       "\n",
       "\n"
      ],
      "text/plain": [
       " [1] \"ERBB2\"  \"PIK3R1\" \"ABL2\"   \"BAD\"    \"ABL1\"   \"MAPK9\"  \"SOS2\"   \"STAT5B\"\n",
       " [9] \"CBL\"    \"SRC\"    \"CBLC\"  "
      ]
     },
     "metadata": {},
     "output_type": "display_data"
    }
   ],
   "source": [
    "best.genes$genes[[1]]"
   ]
  },
  {
   "cell_type": "code",
   "execution_count": 41,
   "metadata": {},
   "outputs": [
    {
     "name": "stderr",
     "output_type": "stream",
     "text": [
      "Parsed with column specification:\n",
      "cols(\n",
      "  X1 = col_character()\n",
      ")\n"
     ]
    }
   ],
   "source": [
    "all.genes <- as.data.frame(read_tsv(\"../data/genes.txt\", col_names = F))\n",
    "names(all.genes) <- c(\"gene\")"
   ]
  },
  {
   "cell_type": "code",
   "execution_count": 88,
   "metadata": {},
   "outputs": [],
   "source": [
    "all.genes$score <- get_score(all.genes$gene, best.genes)"
   ]
  },
  {
   "cell_type": "code",
   "execution_count": 102,
   "metadata": {},
   "outputs": [],
   "source": [
    "all.genes <- all.genes[order(all.genes$score, decreasing = T),]\n",
    "row.names(all.genes) <- seq(length = nrow(all.genes))\n",
    "\n",
    "#all.genes\n",
    "\n",
    "top.genes <- all.genes[which(all.genes$score > 0),]"
   ]
  },
  {
   "cell_type": "code",
   "execution_count": 103,
   "metadata": {},
   "outputs": [
    {
     "data": {
      "text/html": [
       "<table>\n",
       "<thead><tr><th scope=col>gene</th><th scope=col>score</th></tr></thead>\n",
       "<tbody>\n",
       "\t<tr><td>ERBB2    </td><td>72.628893</td></tr>\n",
       "\t<tr><td>MAPK9    </td><td>27.920944</td></tr>\n",
       "\t<tr><td>ABL1     </td><td>26.000000</td></tr>\n",
       "\t<tr><td>SRC      </td><td>25.829942</td></tr>\n",
       "\t<tr><td>ABL2     </td><td>23.000000</td></tr>\n",
       "\t<tr><td>PIK3R1   </td><td>18.000000</td></tr>\n",
       "\t<tr><td>AKT1     </td><td>17.238856</td></tr>\n",
       "\t<tr><td>PRKCB    </td><td>14.536062</td></tr>\n",
       "\t<tr><td>BAD      </td><td>14.000000</td></tr>\n",
       "\t<tr><td>PIK3CG   </td><td>13.182170</td></tr>\n",
       "\t<tr><td>STAT5B   </td><td>12.591085</td></tr>\n",
       "\t<tr><td>MAPK1    </td><td>11.534399</td></tr>\n",
       "\t<tr><td>MAP2K2   </td><td>11.305826</td></tr>\n",
       "\t<tr><td>RPS6KB1  </td><td>10.000000</td></tr>\n",
       "\t<tr><td>CAMK2G   </td><td> 9.886628</td></tr>\n",
       "\t<tr><td>SHC2     </td><td> 9.690708</td></tr>\n",
       "\t<tr><td>CBLC     </td><td> 8.075590</td></tr>\n",
       "\t<tr><td>BTC      </td><td> 8.000000</td></tr>\n",
       "\t<tr><td>PIK3R5   </td><td> 8.000000</td></tr>\n",
       "\t<tr><td>SOS2     </td><td> 8.000000</td></tr>\n",
       "\t<tr><td>SHC4     </td><td> 7.000000</td></tr>\n",
       "\t<tr><td>NRAS     </td><td> 6.460472</td></tr>\n",
       "\t<tr><td>AKT3     </td><td> 5.000000</td></tr>\n",
       "\t<tr><td>CAMK2A   </td><td> 5.000000</td></tr>\n",
       "\t<tr><td>MAP2K4   </td><td> 4.943314</td></tr>\n",
       "\t<tr><td>PIK3CD   </td><td> 4.845354</td></tr>\n",
       "\t<tr><td>CBL      </td><td> 4.000000</td></tr>\n",
       "\t<tr><td>ERBB4    </td><td> 3.295543</td></tr>\n",
       "\t<tr><td>PIK3R2   </td><td> 3.230236</td></tr>\n",
       "\t<tr><td>AKT2     </td><td> 2.000000</td></tr>\n",
       "\t<tr><td>PLCG1    </td><td> 1.647771</td></tr>\n",
       "\t<tr><td>JUN      </td><td> 1.615118</td></tr>\n",
       "\t<tr><td>ARAF     </td><td> 1.000000</td></tr>\n",
       "</tbody>\n",
       "</table>\n"
      ],
      "text/latex": [
       "\\begin{tabular}{r|ll}\n",
       " gene & score\\\\\n",
       "\\hline\n",
       "\t ERBB2     & 72.628893\\\\\n",
       "\t MAPK9     & 27.920944\\\\\n",
       "\t ABL1      & 26.000000\\\\\n",
       "\t SRC       & 25.829942\\\\\n",
       "\t ABL2      & 23.000000\\\\\n",
       "\t PIK3R1    & 18.000000\\\\\n",
       "\t AKT1      & 17.238856\\\\\n",
       "\t PRKCB     & 14.536062\\\\\n",
       "\t BAD       & 14.000000\\\\\n",
       "\t PIK3CG    & 13.182170\\\\\n",
       "\t STAT5B    & 12.591085\\\\\n",
       "\t MAPK1     & 11.534399\\\\\n",
       "\t MAP2K2    & 11.305826\\\\\n",
       "\t RPS6KB1   & 10.000000\\\\\n",
       "\t CAMK2G    &  9.886628\\\\\n",
       "\t SHC2      &  9.690708\\\\\n",
       "\t CBLC      &  8.075590\\\\\n",
       "\t BTC       &  8.000000\\\\\n",
       "\t PIK3R5    &  8.000000\\\\\n",
       "\t SOS2      &  8.000000\\\\\n",
       "\t SHC4      &  7.000000\\\\\n",
       "\t NRAS      &  6.460472\\\\\n",
       "\t AKT3      &  5.000000\\\\\n",
       "\t CAMK2A    &  5.000000\\\\\n",
       "\t MAP2K4    &  4.943314\\\\\n",
       "\t PIK3CD    &  4.845354\\\\\n",
       "\t CBL       &  4.000000\\\\\n",
       "\t ERBB4     &  3.295543\\\\\n",
       "\t PIK3R2    &  3.230236\\\\\n",
       "\t AKT2      &  2.000000\\\\\n",
       "\t PLCG1     &  1.647771\\\\\n",
       "\t JUN       &  1.615118\\\\\n",
       "\t ARAF      &  1.000000\\\\\n",
       "\\end{tabular}\n"
      ],
      "text/markdown": [
       "\n",
       "gene | score | \n",
       "|---|---|---|---|---|---|---|---|---|---|---|---|---|---|---|---|---|---|---|---|---|---|---|---|---|---|---|---|---|---|---|---|---|\n",
       "| ERBB2     | 72.628893 | \n",
       "| MAPK9     | 27.920944 | \n",
       "| ABL1      | 26.000000 | \n",
       "| SRC       | 25.829942 | \n",
       "| ABL2      | 23.000000 | \n",
       "| PIK3R1    | 18.000000 | \n",
       "| AKT1      | 17.238856 | \n",
       "| PRKCB     | 14.536062 | \n",
       "| BAD       | 14.000000 | \n",
       "| PIK3CG    | 13.182170 | \n",
       "| STAT5B    | 12.591085 | \n",
       "| MAPK1     | 11.534399 | \n",
       "| MAP2K2    | 11.305826 | \n",
       "| RPS6KB1   | 10.000000 | \n",
       "| CAMK2G    |  9.886628 | \n",
       "| SHC2      |  9.690708 | \n",
       "| CBLC      |  8.075590 | \n",
       "| BTC       |  8.000000 | \n",
       "| PIK3R5    |  8.000000 | \n",
       "| SOS2      |  8.000000 | \n",
       "| SHC4      |  7.000000 | \n",
       "| NRAS      |  6.460472 | \n",
       "| AKT3      |  5.000000 | \n",
       "| CAMK2A    |  5.000000 | \n",
       "| MAP2K4    |  4.943314 | \n",
       "| PIK3CD    |  4.845354 | \n",
       "| CBL       |  4.000000 | \n",
       "| ERBB4     |  3.295543 | \n",
       "| PIK3R2    |  3.230236 | \n",
       "| AKT2      |  2.000000 | \n",
       "| PLCG1     |  1.647771 | \n",
       "| JUN       |  1.615118 | \n",
       "| ARAF      |  1.000000 | \n",
       "\n",
       "\n"
      ],
      "text/plain": [
       "   gene    score    \n",
       "1  ERBB2   72.628893\n",
       "2  MAPK9   27.920944\n",
       "3  ABL1    26.000000\n",
       "4  SRC     25.829942\n",
       "5  ABL2    23.000000\n",
       "6  PIK3R1  18.000000\n",
       "7  AKT1    17.238856\n",
       "8  PRKCB   14.536062\n",
       "9  BAD     14.000000\n",
       "10 PIK3CG  13.182170\n",
       "11 STAT5B  12.591085\n",
       "12 MAPK1   11.534399\n",
       "13 MAP2K2  11.305826\n",
       "14 RPS6KB1 10.000000\n",
       "15 CAMK2G   9.886628\n",
       "16 SHC2     9.690708\n",
       "17 CBLC     8.075590\n",
       "18 BTC      8.000000\n",
       "19 PIK3R5   8.000000\n",
       "20 SOS2     8.000000\n",
       "21 SHC4     7.000000\n",
       "22 NRAS     6.460472\n",
       "23 AKT3     5.000000\n",
       "24 CAMK2A   5.000000\n",
       "25 MAP2K4   4.943314\n",
       "26 PIK3CD   4.845354\n",
       "27 CBL      4.000000\n",
       "28 ERBB4    3.295543\n",
       "29 PIK3R2   3.230236\n",
       "30 AKT2     2.000000\n",
       "31 PLCG1    1.647771\n",
       "32 JUN      1.615118\n",
       "33 ARAF     1.000000"
      ]
     },
     "metadata": {},
     "output_type": "display_data"
    }
   ],
   "source": [
    "top.genes"
   ]
  },
  {
   "cell_type": "code",
   "execution_count": null,
   "metadata": {},
   "outputs": [],
   "source": []
  }
 ],
 "metadata": {
  "kernelspec": {
   "display_name": "R",
   "language": "R",
   "name": "ir"
  },
  "language_info": {
   "codemirror_mode": "r",
   "file_extension": ".r",
   "mimetype": "text/x-r-source",
   "name": "R",
   "pygments_lexer": "r",
   "version": "3.4.1"
  }
 },
 "nbformat": 4,
 "nbformat_minor": 2
}
