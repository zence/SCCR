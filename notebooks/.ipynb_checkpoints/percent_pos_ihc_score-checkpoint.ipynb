{
 "cells": [
  {
   "cell_type": "markdown",
   "metadata": {},
   "source": [
    "# Intro\n",
    "\n",
    "> __NOTE:__ The data that I'm using is scaled TPM data, I may decide to rerun my tests using robust scaled feature counts data\n",
    "\n",
    "We want to see if there is a correlation between low percent_positive and ihc_score values and being misclassified by the Support Vector Machine and Random Forest algorithms. To start, I will look at how many samples fall in each group within percent_positive and ihc_score.\n",
    "\n",
    "> It should be noted that some samples may have percent_positive data, and some may have ihc_score data, but there is no guarantee that any given sample will have both or either."
   ]
  },
  {
   "cell_type": "code",
   "execution_count": null,
   "metadata": {},
   "outputs": [],
   "source": []
  }
 ],
 "metadata": {
  "kernelspec": {
   "display_name": "R",
   "language": "R",
   "name": "ir"
  },
  "language_info": {
   "codemirror_mode": "r",
   "file_extension": ".r",
   "mimetype": "text/x-r-source",
   "name": "R",
   "pygments_lexer": "r",
   "version": "3.4.1"
  }
 },
 "nbformat": 4,
 "nbformat_minor": 2
}
