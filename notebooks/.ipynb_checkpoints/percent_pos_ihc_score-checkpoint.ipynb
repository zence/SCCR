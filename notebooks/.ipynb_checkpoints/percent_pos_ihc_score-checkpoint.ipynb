{
 "cells": [
  {
   "cell_type": "markdown",
   "metadata": {},
   "source": [
    "# Intro\n",
    "\n",
    "> __NOTE:__ The data that I'm using is scaled TPM data, I may decide to rerun my tests using robust scaled feature counts data\n",
    "\n",
    "We want to see if there is a correlation between low percent_positive and ihc_score values and being misclassified by the Support Vector Machine and Random Forest algorithms. To start, I will look at how many samples fall in each group within percent_positive and ihc_score.\n",
    "\n",
    "> It should be noted that some samples may have percent_positive data, and some may have ihc_score data, but there is no guarantee that any given sample will have both or either."
   ]
  },
  {
   "cell_type": "code",
   "execution_count": 31,
   "metadata": {},
   "outputs": [
    {
     "name": "stderr",
     "output_type": "stream",
     "text": [
      "Loading required package: splitstackshape\n"
     ]
    }
   ],
   "source": [
    "require(readr)\n",
    "require(dplyr)\n",
    "require(C50)\n",
    "require(ggplot2)\n",
    "require(splitstackshape)"
   ]
  },
  {
   "cell_type": "markdown",
   "metadata": {},
   "source": [
    "## Load data\n",
    "\n",
    "First, I will load the dataframe that shows whether SVM and Random Forest were able to accurately predict her2 positivity.\n",
    "The dataframe looks almost nothing like this, but here is an example:\n",
    "\n",
    "|Sample        |ERBB2      |... |RF_classified     |SVM_classified   |\n",
    "| ------------ | --------- | -- | ---------------- | --------------- |\n",
    "|TCGA...       | 0.3432    |... | Correct          | Misclassified   |"
   ]
  },
  {
   "cell_type": "code",
   "execution_count": 2,
   "metadata": {},
   "outputs": [
    {
     "name": "stderr",
     "output_type": "stream",
     "text": [
      "Parsed with column specification:\n",
      "cols(\n",
      "  .default = col_double(),\n",
      "  Sample = col_character(),\n",
      "  AMY1B = col_integer(),\n",
      "  AMY1C = col_integer(),\n",
      "  ANKRD20A1 = col_integer(),\n",
      "  ANKRD20A2 = col_integer(),\n",
      "  ANXA8L1 = col_integer(),\n",
      "  APOC2 = col_integer(),\n",
      "  APOC4 = col_integer(),\n",
      "  ARL17B = col_integer(),\n",
      "  BAGE2 = col_integer(),\n",
      "  BAGE3 = col_integer(),\n",
      "  BAGE4 = col_integer(),\n",
      "  BAGE5 = col_integer(),\n",
      "  BMS1P1 = col_integer(),\n",
      "  BMS1P5 = col_integer(),\n",
      "  BOLA2 = col_integer(),\n",
      "  BOLA2B = col_integer(),\n",
      "  BPY2 = col_integer(),\n",
      "  BPY2B = col_integer(),\n",
      "  BPY2C = col_integer()\n",
      "  # ... with 538 more columns\n",
      ")\n",
      "See spec(...) for full column specifications.\n"
     ]
    }
   ],
   "source": [
    "misclassied <- as.data.frame(read_tsv(\"../data/both_genes_TPM.tsv.gz\"))\n",
    "\n",
    "row.names(misclassied) <- misclassied$Sample"
   ]
  },
  {
   "cell_type": "markdown",
   "metadata": {},
   "source": [
    "I will now load the her2 clinical data, which contains her2_percent_positive and ihc_score data"
   ]
  },
  {
   "cell_type": "code",
   "execution_count": 3,
   "metadata": {},
   "outputs": [
    {
     "name": "stderr",
     "output_type": "stream",
     "text": [
      "Warning message:\n",
      "“Missing column names filled in: 'X1' [1], 'X2' [2], 'X3' [3]”Parsed with column specification:\n",
      "cols(\n",
      "  .default = col_character()\n",
      ")\n",
      "See spec(...) for full column specifications.\n"
     ]
    }
   ],
   "source": [
    "her2.clinical <- as.data.frame(read_tsv(\"../data/her2_Clinical_Data.tsv\"))\n",
    "\n",
    "her2.clinical$X2 <- NULL\n",
    "her2.clinical$X3 <- NULL\n",
    "row.names(her2.clinical) <- her2.clinical$X1\n",
    "her2.clinical$X1 <- NULL\n",
    "\n",
    "her2.clinical <- as.data.frame(t(her2.clinical))"
   ]
  },
  {
   "cell_type": "markdown",
   "metadata": {},
   "source": [
    "Divide up between her2 positive and her2 negative samples since we are primarily interested in her2 positive samples"
   ]
  },
  {
   "cell_type": "code",
   "execution_count": 4,
   "metadata": {
    "slideshow": {
     "slide_type": "-"
    }
   },
   "outputs": [],
   "source": [
    "positive.percents <- her2.clinical[which(!is.na(her2.clinical$her2_ihc_percent_positive) & \n",
    "                                         her2.clinical$her2_ihc_percent_positive != \"[Not Available]\" & \n",
    "                                         her2.clinical$her2_status_by_ihc == \"Positive\"), \n",
    "                                   c('her2_status_by_ihc', 'her2_ihc_percent_positive')]\n",
    "\n",
    "negative.percents <- her2.clinical[which(!is.na(her2.clinical$her2_ihc_percent_positive) & \n",
    "                                         her2.clinical$her2_ihc_percent_positive != \"[Not Available]\" & \n",
    "                                         her2.clinical$her2_status_by_ihc == \"Negative\"), \n",
    "                                   c('her2_status_by_ihc', 'her2_ihc_percent_positive')]\n",
    "\n",
    "positive.percents$Sample <- row.names(positive.percents)\n",
    "negative.percents$Sample <- row.names(negative.percents)"
   ]
  },
  {
   "cell_type": "code",
   "execution_count": 10,
   "metadata": {},
   "outputs": [],
   "source": [
    "positive.scores <- her2.clinical[which(!is.na(her2.clinical$her2_ihc_score) & \n",
    "                                       her2.clinical$her2_ihc_score != \"[Not Available]\" & \n",
    "                                       her2.clinical$her2_status_by_ihc == \"Positive\"), \n",
    "                                 c('her2_status_by_ihc', 'her2_ihc_score')]\n",
    "\n",
    "negative.scores <- her2.clinical[which(!is.na(her2.clinical$her2_ihc_score) & \n",
    "                                       her2.clinical$her2_ihc_score != \"[Not Available]\" & \n",
    "                                       her2.clinical$her2_status_by_ihc == \"Negative\"), \n",
    "                                 c('her2_status_by_ihc', 'her2_ihc_score')]\n",
    "\n",
    "positive.scores$Sample <- rownames(positive.scores)\n",
    "negative.scores$Sample <- rownames(negative.scores)"
   ]
  },
  {
   "cell_type": "markdown",
   "metadata": {},
   "source": [
    "# Check spread of percent positive and ihc score data\n",
    "\n",
    "This will tell us more about the results that we will view later on. First, I want to look at how many samples have either percent positive or ihc score data or both."
   ]
  },
  {
   "cell_type": "code",
   "execution_count": 18,
   "metadata": {},
   "outputs": [
    {
     "data": {},
     "metadata": {},
     "output_type": "display_data"
    },
    {
     "data": {
      "image/png": "[encoded data removed]",
      "text/plain": [
       "plot without title"
      ]
     },
     "metadata": {},
     "output_type": "display_data",
     "source": "R display func"
    }
   ],
   "source": [
    "inter.data <- data.frame(Sample = c(positive.percents$Sample, positive.scores$Sample))\n",
    "inter.data$Data <- ifelse(inter.data$Sample %in% positive.percents$Sample, ifelse(inter.data$Sample %in% positive.scores$Sample, \"Both\", \"Percent\"),\n",
    "                         \"Score\")\n",
    "\n",
    "ghist <- ggplot(inter.data, aes(x = Data))\n",
    "\n",
    "gghist <- ghist + geom_bar()\n",
    "\n",
    "gghist"
   ]
  },
  {
   "cell_type": "markdown",
   "metadata": {},
   "source": [
    "Good. It looks like a fair portion has both features, although there is a significant number of samples that only have ihc score data.\n",
    "\n",
    "Now, let's look at the spread for percent positive."
   ]
  },
  {
   "cell_type": "code",
   "execution_count": 20,
   "metadata": {},
   "outputs": [
    {
     "data": {},
     "metadata": {},
     "output_type": "display_data"
    },
    {
     "data": {
      "image/png": "[encoded data removed]",
      "text/plain": [
       "plot without title"
      ]
     },
     "metadata": {},
     "output_type": "display_data",
     "source": "R display func"
    }
   ],
   "source": [
    "ghist <- ggplot(positive.percents, aes(x = her2_ihc_percent_positive))\n",
    "\n",
    "gghist <- ghist + geom_bar()\n",
    "\n",
    "gghist"
   ]
  },
  {
   "cell_type": "markdown",
   "metadata": {},
   "source": [
    "It seems that most of the her2 positive samples are found in the 90-99% range, however, a good chunk are found below 50%, which could be telling.\n",
    "\n",
    "Now for ihc_score"
   ]
  },
  {
   "cell_type": "code",
   "execution_count": 22,
   "metadata": {},
   "outputs": [
    {
     "data": {},
     "metadata": {},
     "output_type": "display_data"
    },
    {
     "data": {
      "image/png": "[encoded data removed]",
      "text/plain": [
       "plot without title"
      ]
     },
     "metadata": {},
     "output_type": "display_data",
     "source": "R display func"
    }
   ],
   "source": [
    "ghist <- ggplot(positive.scores, aes(x = her2_ihc_score))\n",
    "\n",
    "gghist <- ghist + geom_bar()\n",
    "\n",
    "gghist"
   ]
  },
  {
   "cell_type": "markdown",
   "metadata": {},
   "source": [
    "As is expected, the majority of the samples are found in the 3+ group. \n",
    "\n",
    "# Run C5.0 algorithm\n",
    "\n",
    "> I may delete this part since C5.0 seems unable to handle discrete variables (???) This doesn't really make sense to me because I once left sample ID in and it really jumped on that, but if I try to use percent positive or ihc score it ignores it completely. It's bizarre.\n",
    "\n",
    "- Is there a patterned explanation for how SVM and RF misclassified these samples?"
   ]
  },
  {
   "cell_type": "code",
   "execution_count": 46,
   "metadata": {},
   "outputs": [
    {
     "data": {
      "text/plain": [
       "\n",
       "Call:\n",
       "C5.0.default(x = subset(kfold, select = -c(SVM_classified,\n",
       " Sample, RF_classified, her2_status_by_ihc)), y\n",
       " = as.factor(kfold$SVM_classified), trials = 10, rules = T)\n",
       "\n",
       "\n",
       "C5.0 [Release 2.07 GPL Edition]  \tMon Jul  2 18:04:00 2018\n",
       "-------------------------------\n",
       "\n",
       "Class specified by attribute `outcome'\n",
       "\n",
       "Read 92 cases (23370 attributes) from undefined.data\n",
       "\n",
       "-----  Trial 0:  -----\n",
       "\n",
       "Rules:\n",
       "\n",
       "Rule 0/1: (32, lift 2.8)\n",
       "\tATOH7 <= -0.02068598\n",
       "\tEDNRB <= 1.456715\n",
       "\tGRB7 > 0.3803859\n",
       "\tHECTD2 <= 0.1154527\n",
       "\t->  class Correct  [0.971]\n",
       "\n",
       "Rule 0/2: (46, lift 1.5)\n",
       "\tGRB7 <= 0.3803859\n",
       "\t->  class Misclassified  [0.979]\n",
       "\n",
       "Rule 0/3: (22, lift 1.5)\n",
       "\tHECTD2 > 0.1154527\n",
       "\t->  class Misclassified  [0.958]\n",
       "\n",
       "Rule 0/4: (13, lift 1.4)\n",
       "\tATOH7 > -0.02068598\n",
       "\t->  class Misclassified  [0.933]\n",
       "\n",
       "Default class: Misclassified\n",
       "\n",
       "*** boosting reduced to 1 trial since last classifier is very accurate\n",
       "\n",
       "*** boosting abandoned (too few classifiers)\n",
       "\n",
       "\n",
       "Evaluation on training data (92 cases):\n",
       "\n",
       "\t        Rules     \n",
       "\t  ----------------\n",
       "\t    No      Errors\n",
       "\n",
       "\t     4    0( 0.0%)   <<\n",
       "\n",
       "\n",
       "\t   (a)   (b)    <-classified as\n",
       "\t  ----  ----\n",
       "\t    32          (a): class Correct\n",
       "\t          60    (b): class Misclassified\n",
       "\n",
       "\n",
       "\tAttribute usage:\n",
       "\n",
       "\t 84.78%\tGRB7\n",
       "\t 58.70%\tHECTD2\n",
       "\t 48.91%\tATOH7\n",
       "\t 34.78%\tEDNRB\n",
       "\n",
       "\n",
       "Time: 3.9 secs\n"
      ]
     },
     "metadata": {},
     "output_type": "display_data"
    }
   ],
   "source": [
    "score.data <- merge(positive.scores[, c('Sample', 'her2_ihc_score')], misclassied, by = 'Sample')\n",
    "\n",
    "perc.data <- merge(positive.percents, misclassied[, c('Sample', 'ERBB2', 'RF_classified', 'SVM_classified')], by = 'Sample')\n",
    "\n",
    "kfold <- stratified(score.data, 'SVM_classified', .75)\n",
    "\n",
    "results <- C5.0(subset(kfold, select = -c(SVM_classified, Sample, RF_classified, her2_status_by_ihc)), as.factor(kfold$SVM_classified), trials = 10, rules = T)\n",
    "\n",
    "summary(results)"
   ]
  },
  {
   "cell_type": "code",
   "execution_count": 6,
   "metadata": {},
   "outputs": [
    {
     "data": {},
     "metadata": {},
     "output_type": "display_data"
    },
    {
     "data": {
      "image/png": "[encoded data removed]",
      "text/plain": [
       "plot without title"
      ]
     },
     "metadata": {},
     "output_type": "display_data",
     "source": "R display func"
    }
   ],
   "source": [
    "ghist <- ggplot(arrange(merge(positive.percents, misclassied[, c('ERBB2','Sample', 'RF_classified')], by = 'Sample'), her2_ihc_percent_positive, RF_classified),\n",
    "               aes(x = RF_classified, fill = RF_classified))\n",
    "\n",
    "gghist <- ghist + geom_bar(stat = \"count\") + facet_grid( ~ her2_ihc_percent_positive) + \n",
    "                labs(title = \"Percent positive in positive samples\", x = \"Percent Positive\", color = ) + \n",
    "                theme(axis.ticks.x = element_blank(), axis.text.x = element_blank())\n",
    "\n",
    "gghist"
   ]
  },
  {
   "cell_type": "code",
   "execution_count": null,
   "metadata": {},
   "outputs": [],
   "source": []
  }
 ],
 "metadata": {
  "kernelspec": {
   "display_name": "R",
   "language": "R",
   "name": "ir"
  },
  "language_info": {
   "codemirror_mode": "r",
   "file_extension": ".r",
   "mimetype": "text/x-r-source",
   "name": "R",
   "pygments_lexer": "r",
   "version": "3.4.1"
  }
 },
 "nbformat": 4,
 "nbformat_minor": 2
}
