{
 "cells": [
  {
   "cell_type": "markdown",
   "metadata": {},
   "source": [
    "# Sequentializer\n",
    "\n",
    "Here I analyze the results given from my sequentializer pipeline. In this particular section, I analyze results of predicting her2 positivity with five machine-learning algorithms given the 87 genes that are believed to be part of the HER2 pathway sequentially. That is to say testing was performed using only data from one gene once per gene, and the test with the highest AUROC was selected. The tests were then performed using the selected gene and one of the remaining 86 genes, performed once per remaining gene. The selected gene was then appended to the list of the previously selected gene(s). This was performed until 10 genes were chosen. In the case of the initial testing, ERBB2 was given as a default starting point, so the reader may notice 11 genes amongst the selected genes.\n",
    "\n",
    "Algorithms and normalization methods were selected based on my prior tests detailed here: [chapter 1](https://nbviewer.jupyter.org/github/zence/SCCR/blob/Kumiko/notebooks/scaling_methods_p1.ipynb), [chapter 2](https://nbviewer.jupyter.org/github/zence/SCCR/blob/Kumiko/notebooks/scaling_methods_p2.ipynb), [chapter 3](https://nbviewer.jupyter.org/github/zence/SCCR/blob/Kumiko/notebooks/scaling_methods_p3.ipynb)\n",
    "\n",
    "I later performed tests, allowing the algorithms to select all 10 genes without a starting point, meaning no genes were given to start testing. Thus, the resulting selected genes were all selected by the algorithms.\n",
    "\n",
    "In this notebook, I analyze the resulting data and score genes based on two criteria:\n",
    "\n",
    "1. Location in selected genes list\n",
    "  - In this case, order will always be important since the next gene will always give the best AUC out of the remaining genes\n",
    "  - Initial scores are calculated as the position from the end of the selected genes +1 (this allows the last positioned gene to still be ranked higher than genes which were not selected)\n",
    "2. Weight of instance\n",
    "  - Weights of each instance are calculated by normalizing AUCs (between 0 and 1) and adding 1. Thus, the lowest AUC results in a weight of 1 and the highest AUC results in a weight of 2. This is to ensure that AUC is taken into account, but is not the sole determining factor.\n",
    "  - Initial scores are multiplied by instance weight. Thus, the better AUCs result in higher importance and scores.\n",
    "  \n",
    "In my second round of testing, I took AUCs as selected gene lists were being built. Thus, position scores are more heavily influenced by whether or not that particular position helped or harmed AUCs."
   ]
  },
  {
   "cell_type": "code",
   "execution_count": 104,
   "metadata": {},
   "outputs": [
    {
     "name": "stderr",
     "output_type": "stream",
     "text": [
      "Loading required package: ggplot2\n"
     ]
    }
   ],
   "source": [
    "require(readr)\n",
    "require(ggplot2)"
   ]
  },
  {
   "cell_type": "markdown",
   "metadata": {},
   "source": [
    "This is a simple normalization method that really should be part of base r, but it is simple enough to type up."
   ]
  },
  {
   "cell_type": "code",
   "execution_count": 6,
   "metadata": {},
   "outputs": [],
   "source": [
    "normalize <- function(x){(x-min(x))/(max(x)-min(x))}"
   ]
  },
  {
   "cell_type": "markdown",
   "metadata": {},
   "source": [
    "My initial scoring function. This bases scores only on the end results and is used in the first part of this analysis."
   ]
  },
  {
   "cell_type": "code",
   "execution_count": 135,
   "metadata": {},
   "outputs": [],
   "source": [
    "get_score <- function(gene.vec, weight.df){\n",
    "    scores <- c()\n",
    "    for (gene in gene.vec){\n",
    "        score <- 0\n",
    "        cur.score <- 0\n",
    "        for (i in 1:nrow(weight.df)){\n",
    "            gene.group <- weight.df$genes[[i]]\n",
    "            cur.score <- match(gene, gene.group)\n",
    "            if (is.na(cur.score)){\n",
    "                cur.score <- 0\n",
    "            } else {\n",
    "                cur.score <- (length(gene.group) - cur.score + 1) * weight.df$weight[i] # + 1 to give points to 11th position\n",
    "            }\n",
    "            score <- score + cur.score\n",
    "            #print(cur.score)\n",
    "        }\n",
    "        scores <- c(scores, score)\n",
    "    }\n",
    "    return(scores)\n",
    "}"
   ]
  },
  {
   "cell_type": "markdown",
   "metadata": {},
   "source": [
    "My second scoring function. This test is slightly more refined as it gets weights for each position in the selected genes list. Thus, weight is determined also by how AUC was affected in an instance."
   ]
  },
  {
   "cell_type": "code",
   "execution_count": 143,
   "metadata": {},
   "outputs": [],
   "source": [
    "get_seqd_score <- function(gene.vec, weight.df){\n",
    "    scores <- c()\n",
    "    for (gene in gene.vec){\n",
    "        score <- 0\n",
    "        cur.score <- 0\n",
    "        for (i in 1:nrow(weight.df)){\n",
    "            gene.group <- weight.df$genes[[i]]\n",
    "            cur.score <- match(gene, gene.group)\n",
    "            if (is.na(cur.score) | cur.score < length(gene.group)){\n",
    "                cur.score <- 0\n",
    "            } else {\n",
    "                cur.score <- (11 - cur.score) * weight.df$weight[i] # 11 so the last place position gets 1 point\n",
    "            }\n",
    "            score <- score + cur.score\n",
    "            #print(cur.score)\n",
    "        }\n",
    "        scores <- c(scores, score)\n",
    "    }\n",
    "    return(scores)\n",
    "}"
   ]
  },
  {
   "cell_type": "markdown",
   "metadata": {},
   "source": [
    "## Initial analysis\n",
    "\n",
    "Here I score and rank genes based on positioning within the selected genes of final results."
   ]
  },
  {
   "cell_type": "code",
   "execution_count": 28,
   "metadata": {},
   "outputs": [
    {
     "name": "stderr",
     "output_type": "stream",
     "text": [
      "Parsed with column specification:\n",
      "cols(\n",
      "  model = col_character(),\n",
      "  genes = col_character(),\n",
      "  auc = col_double()\n",
      ")\n"
     ]
    }
   ],
   "source": [
    "best.genes <- as.data.frame(read_tsv(\"../results/best_genes.tsv\"))"
   ]
  },
  {
   "cell_type": "code",
   "execution_count": 29,
   "metadata": {},
   "outputs": [
    {
     "data": {
      "text/html": [
       "<table>\n",
       "<thead><tr><th scope=col>model</th><th scope=col>genes</th><th scope=col>auc</th></tr></thead>\n",
       "<tbody>\n",
       "\t<tr><td>LR                                                                 </td><td>ERBB2,PIK3R1,ABL2,BAD,ABL1,MAPK9,SOS2,STAT5B,CBL,SRC,CBLC          </td><td>0.7921931                                                          </td></tr>\n",
       "\t<tr><td>rbfSVM                                                             </td><td>ERBB2,SRC,PIK3R5,SHC4,ABL1,MAPK9,BTC,AKT1,CAMK2A,RPS6KB1,CAMK2G    </td><td>0.7585523                                                          </td></tr>\n",
       "\t<tr><td>RF                                                                 </td><td>ERBB2,PRKCB,MAPK9,MAP2K2,SHC2,CBLC,NRAS,PIK3CD,PIK3R2,JUN,HBEGF    </td><td>0.7792454                                                          </td></tr>\n",
       "\t<tr><td>GradientBoost                                                      </td><td>ERBB2,SRC,PIK3CG,MAPK1,CAMK2G,AKT1,STAT5B,MAP2K4,ERBB4,PLCG1,STAT5A</td><td>0.7803439                                                          </td></tr>\n",
       "\t<tr><td>LinearSVM                                                          </td><td>ERBB2,RPS6KB1,ABL1,ABL2,AKT1,AKT3,BTC,CAMK2A,AKT2,ARAF,SHC3        </td><td>0.7585523                                                          </td></tr>\n",
       "</tbody>\n",
       "</table>\n"
      ],
      "text/latex": [
       "\\begin{tabular}{r|lll}\n",
       " model & genes & auc\\\\\n",
       "\\hline\n",
       "\t LR                                                                  & ERBB2,PIK3R1,ABL2,BAD,ABL1,MAPK9,SOS2,STAT5B,CBL,SRC,CBLC           & 0.7921931                                                          \\\\\n",
       "\t rbfSVM                                                              & ERBB2,SRC,PIK3R5,SHC4,ABL1,MAPK9,BTC,AKT1,CAMK2A,RPS6KB1,CAMK2G     & 0.7585523                                                          \\\\\n",
       "\t RF                                                                  & ERBB2,PRKCB,MAPK9,MAP2K2,SHC2,CBLC,NRAS,PIK3CD,PIK3R2,JUN,HBEGF     & 0.7792454                                                          \\\\\n",
       "\t GradientBoost                                                       & ERBB2,SRC,PIK3CG,MAPK1,CAMK2G,AKT1,STAT5B,MAP2K4,ERBB4,PLCG1,STAT5A & 0.7803439                                                          \\\\\n",
       "\t LinearSVM                                                           & ERBB2,RPS6KB1,ABL1,ABL2,AKT1,AKT3,BTC,CAMK2A,AKT2,ARAF,SHC3         & 0.7585523                                                          \\\\\n",
       "\\end{tabular}\n"
      ],
      "text/markdown": [
       "\n",
       "model | genes | auc | \n",
       "|---|---|---|---|---|\n",
       "| LR                                                                  | ERBB2,PIK3R1,ABL2,BAD,ABL1,MAPK9,SOS2,STAT5B,CBL,SRC,CBLC           | 0.7921931                                                           | \n",
       "| rbfSVM                                                              | ERBB2,SRC,PIK3R5,SHC4,ABL1,MAPK9,BTC,AKT1,CAMK2A,RPS6KB1,CAMK2G     | 0.7585523                                                           | \n",
       "| RF                                                                  | ERBB2,PRKCB,MAPK9,MAP2K2,SHC2,CBLC,NRAS,PIK3CD,PIK3R2,JUN,HBEGF     | 0.7792454                                                           | \n",
       "| GradientBoost                                                       | ERBB2,SRC,PIK3CG,MAPK1,CAMK2G,AKT1,STAT5B,MAP2K4,ERBB4,PLCG1,STAT5A | 0.7803439                                                           | \n",
       "| LinearSVM                                                           | ERBB2,RPS6KB1,ABL1,ABL2,AKT1,AKT3,BTC,CAMK2A,AKT2,ARAF,SHC3         | 0.7585523                                                           | \n",
       "\n",
       "\n"
      ],
      "text/plain": [
       "  model        \n",
       "1 LR           \n",
       "2 rbfSVM       \n",
       "3 RF           \n",
       "4 GradientBoost\n",
       "5 LinearSVM    \n",
       "  genes                                                               auc      \n",
       "1 ERBB2,PIK3R1,ABL2,BAD,ABL1,MAPK9,SOS2,STAT5B,CBL,SRC,CBLC           0.7921931\n",
       "2 ERBB2,SRC,PIK3R5,SHC4,ABL1,MAPK9,BTC,AKT1,CAMK2A,RPS6KB1,CAMK2G     0.7585523\n",
       "3 ERBB2,PRKCB,MAPK9,MAP2K2,SHC2,CBLC,NRAS,PIK3CD,PIK3R2,JUN,HBEGF     0.7792454\n",
       "4 ERBB2,SRC,PIK3CG,MAPK1,CAMK2G,AKT1,STAT5B,MAP2K4,ERBB4,PLCG1,STAT5A 0.7803439\n",
       "5 ERBB2,RPS6KB1,ABL1,ABL2,AKT1,AKT3,BTC,CAMK2A,AKT2,ARAF,SHC3         0.7585523"
      ]
     },
     "metadata": {},
     "output_type": "display_data"
    }
   ],
   "source": [
    "best.genes"
   ]
  },
  {
   "cell_type": "code",
   "execution_count": 30,
   "metadata": {},
   "outputs": [],
   "source": [
    "best.genes$weight <- normalize(best.genes$auc) + 1"
   ]
  },
  {
   "cell_type": "code",
   "execution_count": 34,
   "metadata": {},
   "outputs": [],
   "source": [
    "best.genes$genes <- strsplit(best.genes$genes, split = ',')"
   ]
  },
  {
   "cell_type": "code",
   "execution_count": 38,
   "metadata": {},
   "outputs": [
    {
     "data": {
      "text/html": [
       "<ol class=list-inline>\n",
       "\t<li>'ERBB2'</li>\n",
       "\t<li>'PIK3R1'</li>\n",
       "\t<li>'ABL2'</li>\n",
       "\t<li>'BAD'</li>\n",
       "\t<li>'ABL1'</li>\n",
       "\t<li>'MAPK9'</li>\n",
       "\t<li>'SOS2'</li>\n",
       "\t<li>'STAT5B'</li>\n",
       "\t<li>'CBL'</li>\n",
       "\t<li>'SRC'</li>\n",
       "\t<li>'CBLC'</li>\n",
       "</ol>\n"
      ],
      "text/latex": [
       "\\begin{enumerate*}\n",
       "\\item 'ERBB2'\n",
       "\\item 'PIK3R1'\n",
       "\\item 'ABL2'\n",
       "\\item 'BAD'\n",
       "\\item 'ABL1'\n",
       "\\item 'MAPK9'\n",
       "\\item 'SOS2'\n",
       "\\item 'STAT5B'\n",
       "\\item 'CBL'\n",
       "\\item 'SRC'\n",
       "\\item 'CBLC'\n",
       "\\end{enumerate*}\n"
      ],
      "text/markdown": [
       "1. 'ERBB2'\n",
       "2. 'PIK3R1'\n",
       "3. 'ABL2'\n",
       "4. 'BAD'\n",
       "5. 'ABL1'\n",
       "6. 'MAPK9'\n",
       "7. 'SOS2'\n",
       "8. 'STAT5B'\n",
       "9. 'CBL'\n",
       "10. 'SRC'\n",
       "11. 'CBLC'\n",
       "\n",
       "\n"
      ],
      "text/plain": [
       " [1] \"ERBB2\"  \"PIK3R1\" \"ABL2\"   \"BAD\"    \"ABL1\"   \"MAPK9\"  \"SOS2\"   \"STAT5B\"\n",
       " [9] \"CBL\"    \"SRC\"    \"CBLC\"  "
      ]
     },
     "metadata": {},
     "output_type": "display_data"
    }
   ],
   "source": [
    "best.genes$genes[[1]]"
   ]
  },
  {
   "cell_type": "code",
   "execution_count": 41,
   "metadata": {},
   "outputs": [
    {
     "name": "stderr",
     "output_type": "stream",
     "text": [
      "Parsed with column specification:\n",
      "cols(\n",
      "  X1 = col_character()\n",
      ")\n"
     ]
    }
   ],
   "source": [
    "all.genes <- as.data.frame(read_tsv(\"../data/genes.txt\", col_names = F))\n",
    "names(all.genes) <- c(\"gene\")"
   ]
  },
  {
   "cell_type": "code",
   "execution_count": 88,
   "metadata": {},
   "outputs": [],
   "source": [
    "all.genes$score <- get_score(all.genes$gene, best.genes)"
   ]
  },
  {
   "cell_type": "code",
   "execution_count": 117,
   "metadata": {},
   "outputs": [],
   "source": [
    "all.genes <- all.genes[order(all.genes$score, decreasing = T),]\n",
    "row.names(all.genes) <- seq(length = nrow(all.genes))\n",
    "\n",
    "#all.genes\n",
    "\n",
    "top.genes <- all.genes[which(all.genes$score > 0),]\n",
    "\n",
    "top.genes$gene <- factor(top.genes$gene, levels = top.genes$gene[order(top.genes$score, decreasing = T)])"
   ]
  },
  {
   "cell_type": "code",
   "execution_count": 118,
   "metadata": {},
   "outputs": [
    {
     "data": {
      "text/html": [
       "<table>\n",
       "<thead><tr><th scope=col>gene</th><th scope=col>score</th></tr></thead>\n",
       "<tbody>\n",
       "\t<tr><td>ERBB2    </td><td>72.628893</td></tr>\n",
       "\t<tr><td>MAPK9    </td><td>27.920944</td></tr>\n",
       "\t<tr><td>ABL1     </td><td>26.000000</td></tr>\n",
       "\t<tr><td>SRC      </td><td>25.829942</td></tr>\n",
       "\t<tr><td>ABL2     </td><td>23.000000</td></tr>\n",
       "\t<tr><td>PIK3R1   </td><td>18.000000</td></tr>\n",
       "\t<tr><td>AKT1     </td><td>17.238856</td></tr>\n",
       "\t<tr><td>PRKCB    </td><td>14.536062</td></tr>\n",
       "\t<tr><td>BAD      </td><td>14.000000</td></tr>\n",
       "\t<tr><td>PIK3CG   </td><td>13.182170</td></tr>\n",
       "\t<tr><td>STAT5B   </td><td>12.591085</td></tr>\n",
       "\t<tr><td>MAPK1    </td><td>11.534399</td></tr>\n",
       "\t<tr><td>MAP2K2   </td><td>11.305826</td></tr>\n",
       "\t<tr><td>RPS6KB1  </td><td>10.000000</td></tr>\n",
       "\t<tr><td>CAMK2G   </td><td> 9.886628</td></tr>\n",
       "\t<tr><td>SHC2     </td><td> 9.690708</td></tr>\n",
       "\t<tr><td>CBLC     </td><td> 8.075590</td></tr>\n",
       "\t<tr><td>BTC      </td><td> 8.000000</td></tr>\n",
       "\t<tr><td>PIK3R5   </td><td> 8.000000</td></tr>\n",
       "\t<tr><td>SOS2     </td><td> 8.000000</td></tr>\n",
       "\t<tr><td>SHC4     </td><td> 7.000000</td></tr>\n",
       "\t<tr><td>NRAS     </td><td> 6.460472</td></tr>\n",
       "\t<tr><td>AKT3     </td><td> 5.000000</td></tr>\n",
       "\t<tr><td>CAMK2A   </td><td> 5.000000</td></tr>\n",
       "\t<tr><td>MAP2K4   </td><td> 4.943314</td></tr>\n",
       "\t<tr><td>PIK3CD   </td><td> 4.845354</td></tr>\n",
       "\t<tr><td>CBL      </td><td> 4.000000</td></tr>\n",
       "\t<tr><td>ERBB4    </td><td> 3.295543</td></tr>\n",
       "\t<tr><td>PIK3R2   </td><td> 3.230236</td></tr>\n",
       "\t<tr><td>AKT2     </td><td> 2.000000</td></tr>\n",
       "\t<tr><td>PLCG1    </td><td> 1.647771</td></tr>\n",
       "\t<tr><td>JUN      </td><td> 1.615118</td></tr>\n",
       "\t<tr><td>ARAF     </td><td> 1.000000</td></tr>\n",
       "</tbody>\n",
       "</table>\n"
      ],
      "text/latex": [
       "\\begin{tabular}{r|ll}\n",
       " gene & score\\\\\n",
       "\\hline\n",
       "\t ERBB2     & 72.628893\\\\\n",
       "\t MAPK9     & 27.920944\\\\\n",
       "\t ABL1      & 26.000000\\\\\n",
       "\t SRC       & 25.829942\\\\\n",
       "\t ABL2      & 23.000000\\\\\n",
       "\t PIK3R1    & 18.000000\\\\\n",
       "\t AKT1      & 17.238856\\\\\n",
       "\t PRKCB     & 14.536062\\\\\n",
       "\t BAD       & 14.000000\\\\\n",
       "\t PIK3CG    & 13.182170\\\\\n",
       "\t STAT5B    & 12.591085\\\\\n",
       "\t MAPK1     & 11.534399\\\\\n",
       "\t MAP2K2    & 11.305826\\\\\n",
       "\t RPS6KB1   & 10.000000\\\\\n",
       "\t CAMK2G    &  9.886628\\\\\n",
       "\t SHC2      &  9.690708\\\\\n",
       "\t CBLC      &  8.075590\\\\\n",
       "\t BTC       &  8.000000\\\\\n",
       "\t PIK3R5    &  8.000000\\\\\n",
       "\t SOS2      &  8.000000\\\\\n",
       "\t SHC4      &  7.000000\\\\\n",
       "\t NRAS      &  6.460472\\\\\n",
       "\t AKT3      &  5.000000\\\\\n",
       "\t CAMK2A    &  5.000000\\\\\n",
       "\t MAP2K4    &  4.943314\\\\\n",
       "\t PIK3CD    &  4.845354\\\\\n",
       "\t CBL       &  4.000000\\\\\n",
       "\t ERBB4     &  3.295543\\\\\n",
       "\t PIK3R2    &  3.230236\\\\\n",
       "\t AKT2      &  2.000000\\\\\n",
       "\t PLCG1     &  1.647771\\\\\n",
       "\t JUN       &  1.615118\\\\\n",
       "\t ARAF      &  1.000000\\\\\n",
       "\\end{tabular}\n"
      ],
      "text/markdown": [
       "\n",
       "gene | score | \n",
       "|---|---|---|---|---|---|---|---|---|---|---|---|---|---|---|---|---|---|---|---|---|---|---|---|---|---|---|---|---|---|---|---|---|\n",
       "| ERBB2     | 72.628893 | \n",
       "| MAPK9     | 27.920944 | \n",
       "| ABL1      | 26.000000 | \n",
       "| SRC       | 25.829942 | \n",
       "| ABL2      | 23.000000 | \n",
       "| PIK3R1    | 18.000000 | \n",
       "| AKT1      | 17.238856 | \n",
       "| PRKCB     | 14.536062 | \n",
       "| BAD       | 14.000000 | \n",
       "| PIK3CG    | 13.182170 | \n",
       "| STAT5B    | 12.591085 | \n",
       "| MAPK1     | 11.534399 | \n",
       "| MAP2K2    | 11.305826 | \n",
       "| RPS6KB1   | 10.000000 | \n",
       "| CAMK2G    |  9.886628 | \n",
       "| SHC2      |  9.690708 | \n",
       "| CBLC      |  8.075590 | \n",
       "| BTC       |  8.000000 | \n",
       "| PIK3R5    |  8.000000 | \n",
       "| SOS2      |  8.000000 | \n",
       "| SHC4      |  7.000000 | \n",
       "| NRAS      |  6.460472 | \n",
       "| AKT3      |  5.000000 | \n",
       "| CAMK2A    |  5.000000 | \n",
       "| MAP2K4    |  4.943314 | \n",
       "| PIK3CD    |  4.845354 | \n",
       "| CBL       |  4.000000 | \n",
       "| ERBB4     |  3.295543 | \n",
       "| PIK3R2    |  3.230236 | \n",
       "| AKT2      |  2.000000 | \n",
       "| PLCG1     |  1.647771 | \n",
       "| JUN       |  1.615118 | \n",
       "| ARAF      |  1.000000 | \n",
       "\n",
       "\n"
      ],
      "text/plain": [
       "   gene    score    \n",
       "1  ERBB2   72.628893\n",
       "2  MAPK9   27.920944\n",
       "3  ABL1    26.000000\n",
       "4  SRC     25.829942\n",
       "5  ABL2    23.000000\n",
       "6  PIK3R1  18.000000\n",
       "7  AKT1    17.238856\n",
       "8  PRKCB   14.536062\n",
       "9  BAD     14.000000\n",
       "10 PIK3CG  13.182170\n",
       "11 STAT5B  12.591085\n",
       "12 MAPK1   11.534399\n",
       "13 MAP2K2  11.305826\n",
       "14 RPS6KB1 10.000000\n",
       "15 CAMK2G   9.886628\n",
       "16 SHC2     9.690708\n",
       "17 CBLC     8.075590\n",
       "18 BTC      8.000000\n",
       "19 PIK3R5   8.000000\n",
       "20 SOS2     8.000000\n",
       "21 SHC4     7.000000\n",
       "22 NRAS     6.460472\n",
       "23 AKT3     5.000000\n",
       "24 CAMK2A   5.000000\n",
       "25 MAP2K4   4.943314\n",
       "26 PIK3CD   4.845354\n",
       "27 CBL      4.000000\n",
       "28 ERBB4    3.295543\n",
       "29 PIK3R2   3.230236\n",
       "30 AKT2     2.000000\n",
       "31 PLCG1    1.647771\n",
       "32 JUN      1.615118\n",
       "33 ARAF     1.000000"
      ]
     },
     "metadata": {},
     "output_type": "display_data"
    }
   ],
   "source": [
    "top.genes"
   ]
  },
  {
   "cell_type": "code",
   "execution_count": 123,
   "metadata": {},
   "outputs": [
    {
     "data": {},
     "metadata": {},
     "output_type": "display_data"
    },
    {
     "data": {
      "image/png": "[encoded data removed]",
      "text/plain": [
       "plot without title"
      ]
     },
     "metadata": {},
     "output_type": "display_data",
     "source": "R display func"
    }
   ],
   "source": [
    "gbar <- ggplot(top.genes, aes(x = gene, y = score, fill = 'gene'))\n",
    "ggbar <- gbar + geom_bar(stat = 'identity') +\n",
    "        scale_fill_manual(values = \"blue\", guide = F) +\n",
    "        theme(axis.text.x = element_text(angle = 90, vjust = 0.5))\n",
    "\n",
    "ggbar"
   ]
  },
  {
   "cell_type": "markdown",
   "metadata": {},
   "source": [
    "ERBB2 has such a high score because it is always at the beginning of the selected genes. Thus, no matter the weight, it always scores the highest. This seems unfair since I put ERBB2 there. Thus, I was curious to see if, given free reign on the 87 genes, the algorithms would even score ERBB2 nearly as high as I put it.\n",
    "\n",
    "## Secondary analysis\n",
    "\n",
    "In my secondary tests, I reran the original, but this time I did not give the algorithms any selected genes to begin with, but instead allowed them to select all 10 genes on their own. I also kept track of AUCs as the lists of selected genes were being built in order to see whether adding a particular gene helped or hurt AUC."
   ]
  },
  {
   "cell_type": "code",
   "execution_count": 133,
   "metadata": {},
   "outputs": [
    {
     "name": "stderr",
     "output_type": "stream",
     "text": [
      "Parsed with column specification:\n",
      "cols(\n",
      "  model = col_character(),\n",
      "  genes = col_character(),\n",
      "  auc = col_double()\n",
      ")\n"
     ]
    }
   ],
   "source": [
    "seqd.genes <- as.data.frame(read_tsv('../results/seqd_genes.tsv'))\n",
    "\n",
    "seqd.genes$weight <- normalize(seqd.genes$auc) + 1\n",
    "\n",
    "seqd.genes$genes <- strsplit(seqd.genes$genes, split = ',')"
   ]
  },
  {
   "cell_type": "markdown",
   "metadata": {},
   "source": [
    "Let's take a look at the selected genes. Here, they can be found unfolding in the `genes` column."
   ]
  },
  {
   "cell_type": "code",
   "execution_count": 194,
   "metadata": {},
   "outputs": [
    {
     "data": {
      "text/html": [
       "<table>\n",
       "<thead><tr><th scope=col>model</th><th scope=col>genes</th><th scope=col>auc</th><th scope=col>weight</th><th scope=col>series</th></tr></thead>\n",
       "<tbody>\n",
       "\t<tr><td>GradientBoost</td><td>ERBB2        </td><td>0.7448325    </td><td>1.096998     </td><td> 1           </td></tr>\n",
       "\t<tr><td>GradientBoost</td><td>ERBB2, SRC   </td><td>0.7638438    </td><td>1.477200     </td><td> 2           </td></tr>\n",
       "\t<tr><td>GradientBoost         </td><td>ERBB2 , SRC   , PIK3CG</td><td>0.7740249             </td><td>1.680807              </td><td> 3                    </td></tr>\n",
       "\t<tr><td>GradientBoost                 </td><td>ERBB2 , SRC   , PIK3CG, MAPK1 </td><td>0.7761378                     </td><td>1.723062                      </td><td> 4                            </td></tr>\n",
       "\t<tr><td>GradientBoost                         </td><td>ERBB2 , SRC   , PIK3CG, MAPK1 , CAMK2G</td><td>0.7798242                             </td><td>1.796785                              </td><td> 5                                    </td></tr>\n",
       "\t<tr><td>GradientBoost                                 </td><td>ERBB2 , SRC   , PIK3CG, MAPK1 , CAMK2G, AKT1  </td><td>0.7791484                                     </td><td>1.783271                                      </td><td> 6                                            </td></tr>\n",
       "\t<tr><td>GradientBoost                                         </td><td>ERBB2 , SRC   , PIK3CG, MAPK1 , CAMK2G, AKT1  , STAT5B</td><td>0.7804552                                             </td><td>1.809406                                              </td><td> 7                                                    </td></tr>\n",
       "\t<tr><td>GradientBoost                                                 </td><td>ERBB2 , SRC   , PIK3CG, MAPK1 , CAMK2G, AKT1  , STAT5B, MAP2K4</td><td>0.7776946                                                     </td><td>1.754197                                                      </td><td> 8                                                            </td></tr>\n",
       "\t<tr><td>GradientBoost                                                         </td><td>ERBB2 , SRC   , PIK3CG, MAPK1 , CAMK2G, AKT1  , STAT5B, MAP2K4, ERBB4 </td><td>0.7786037                                                             </td><td>1.772377                                                              </td><td> 9                                                                    </td></tr>\n",
       "\t<tr><td>GradientBoost                                                                 </td><td>ERBB2 , SRC   , PIK3CG, MAPK1 , CAMK2G, AKT1  , STAT5B, MAP2K4, ERBB4 , PLCG1 </td><td>0.7835719                                                                     </td><td>1.871735                                                                      </td><td>10                                                                            </td></tr>\n",
       "\t<tr><td>LinearSVM    </td><td>ERBB2        </td><td>0.7545098    </td><td>1.290532     </td><td> 1           </td></tr>\n",
       "\t<tr><td>LinearSVM       </td><td>ERBB2  , RPS6KB1</td><td>0.7576348       </td><td>1.353028        </td><td> 2              </td></tr>\n",
       "\t<tr><td>LinearSVM                </td><td>ERBB2  , RPS6KB1, ABL1   </td><td>0.7576348                </td><td>1.353028                 </td><td> 3                       </td></tr>\n",
       "\t<tr><td>LinearSVM                         </td><td>ERBB2  , RPS6KB1, ABL1   , ABL2   </td><td>0.7576348                         </td><td>1.353028                          </td><td> 4                                </td></tr>\n",
       "\t<tr><td>LinearSVM                                  </td><td>ERBB2  , RPS6KB1, ABL1   , ABL2   , AKT1   </td><td>0.7576348                                  </td><td>1.353028                                   </td><td> 5                                         </td></tr>\n",
       "\t<tr><td>LinearSVM                                           </td><td>ERBB2  , RPS6KB1, ABL1   , ABL2   , AKT1   , AKT3   </td><td>0.7576348                                           </td><td>1.353028                                            </td><td> 6                                                  </td></tr>\n",
       "\t<tr><td>LinearSVM                                                    </td><td>ERBB2  , RPS6KB1, ABL1   , ABL2   , AKT1   , AKT3   , BTC    </td><td>0.7576348                                                    </td><td>1.353028                                                     </td><td> 7                                                           </td></tr>\n",
       "\t<tr><td>LinearSVM                                                             </td><td>ERBB2  , RPS6KB1, ABL1   , ABL2   , AKT1   , AKT3   , BTC    , CAMK2A </td><td>0.7576348                                                             </td><td>1.353028                                                              </td><td> 8                                                                    </td></tr>\n",
       "\t<tr><td>LinearSVM                                                                      </td><td>ERBB2  , RPS6KB1, ABL1   , ABL2   , AKT1   , AKT3   , BTC    , CAMK2A , AKT2   </td><td>0.7576348                                                                      </td><td>1.353028                                                                       </td><td> 9                                                                             </td></tr>\n",
       "\t<tr><td>LinearSVM                                                                               </td><td>ERBB2  , RPS6KB1, ABL1   , ABL2   , AKT1   , AKT3   , BTC    , CAMK2A , AKT2   , ARAF   </td><td>0.7576348                                                                               </td><td>1.353028                                                                                </td><td>10                                                                                      </td></tr>\n",
       "\t<tr><td>RF           </td><td>ERBB2        </td><td>0.7399823    </td><td>1.000000     </td><td> 1           </td></tr>\n",
       "\t<tr><td>RF           </td><td>ERBB2, PRKCB </td><td>0.7681363    </td><td>1.563043     </td><td> 2           </td></tr>\n",
       "\t<tr><td>RF                 </td><td>ERBB2, PRKCB, MAPK9</td><td>0.7751227          </td><td>1.702761           </td><td> 3                 </td></tr>\n",
       "\t<tr><td>RF                            </td><td>ERBB2 , PRKCB , MAPK9 , MAP2K2</td><td>0.7750280                     </td><td>1.700868                      </td><td> 4                            </td></tr>\n",
       "\t<tr><td>RF                                    </td><td>ERBB2 , PRKCB , MAPK9 , MAP2K2, SHC2  </td><td>0.7845863                             </td><td>1.892021                              </td><td> 5                                    </td></tr>\n",
       "\t<tr><td>RF                                            </td><td>ERBB2 , PRKCB , MAPK9 , MAP2K2, SHC2  , CBLC  </td><td>0.7785257                                     </td><td>1.770817                                      </td><td> 6                                            </td></tr>\n",
       "\t<tr><td>RF                                                    </td><td>ERBB2 , PRKCB , MAPK9 , MAP2K2, SHC2  , CBLC  , NRAS  </td><td>0.7760318                                             </td><td>1.720942                                              </td><td> 7                                                    </td></tr>\n",
       "\t<tr><td>RF                                                            </td><td>ERBB2 , PRKCB , MAPK9 , MAP2K2, SHC2  , CBLC  , NRAS  , PIK3CD</td><td>0.7773992                                                     </td><td>1.748289                                                      </td><td> 8                                                            </td></tr>\n",
       "\t<tr><td>RF                                                                    </td><td>ERBB2 , PRKCB , MAPK9 , MAP2K2, SHC2  , CBLC  , NRAS  , PIK3CD, PIK3R2</td><td>0.7713749                                                             </td><td>1.627812                                                              </td><td> 9                                                                    </td></tr>\n",
       "\t<tr><td>RF                                                                            </td><td>ERBB2 , PRKCB , MAPK9 , MAP2K2, SHC2  , CBLC  , NRAS  , PIK3CD, PIK3R2, JUN   </td><td>0.7780499                                                                     </td><td>1.761303                                                                      </td><td>10                                                                            </td></tr>\n",
       "\t<tr><td>LR           </td><td>ERBB2        </td><td>0.7576348    </td><td>1.353028     </td><td> 1           </td></tr>\n",
       "\t<tr><td>LR            </td><td>ERBB2 , PIK3R1</td><td>0.7650803     </td><td>1.501927      </td><td> 2            </td></tr>\n",
       "\t<tr><td>LR                    </td><td>ERBB2 , PIK3R1, ABL2  </td><td>0.7659977             </td><td>1.520274              </td><td> 3                    </td></tr>\n",
       "\t<tr><td>LR                            </td><td>ERBB2 , PIK3R1, ABL2  , BAD   </td><td>0.7659977                     </td><td>1.520274                      </td><td> 4                            </td></tr>\n",
       "\t<tr><td>LR                                    </td><td>ERBB2 , PIK3R1, ABL2  , BAD   , ABL1  </td><td>0.7682053                             </td><td>1.564423                              </td><td> 5                                    </td></tr>\n",
       "\t<tr><td>LR                                            </td><td>ERBB2 , PIK3R1, ABL2  , BAD   , ABL1  , MAPK9 </td><td>0.7744553                                     </td><td>1.689414                                      </td><td> 6                                            </td></tr>\n",
       "\t<tr><td>LR                                                    </td><td>ERBB2 , PIK3R1, ABL2  , BAD   , ABL1  , MAPK9 , SOS2  </td><td>0.7796931                                             </td><td>1.794165                                              </td><td> 7                                                    </td></tr>\n",
       "\t<tr><td>LR                                                            </td><td>ERBB2 , PIK3R1, ABL2  , BAD   , ABL1  , MAPK9 , SOS2  , STAT5B</td><td>0.7846530                                                     </td><td>1.893356                                                      </td><td> 8                                                            </td></tr>\n",
       "\t<tr><td>LR                                                                    </td><td>ERBB2 , PIK3R1, ABL2  , BAD   , ABL1  , MAPK9 , SOS2  , STAT5B, CBL   </td><td>0.7868606                                                             </td><td>1.937504                                                              </td><td> 9                                                                    </td></tr>\n",
       "\t<tr><td>LR                                                                            </td><td>ERBB2 , PIK3R1, ABL2  , BAD   , ABL1  , MAPK9 , SOS2  , STAT5B, CBL   , SRC   </td><td>0.7899856                                                                     </td><td>2.000000                                                                      </td><td>10                                                                            </td></tr>\n",
       "\t<tr><td>rbfSVM       </td><td>ERBB2        </td><td>0.7545098    </td><td>1.290532     </td><td> 1           </td></tr>\n",
       "\t<tr><td>rbfSVM       </td><td>ERBB2, SRC   </td><td>0.7659030    </td><td>1.518380     </td><td> 2           </td></tr>\n",
       "\t<tr><td>rbfSVM                </td><td>ERBB2 , SRC   , PIK3R5</td><td>0.7668204             </td><td>1.536728              </td><td> 3                    </td></tr>\n",
       "\t<tr><td>rbfSVM                        </td><td>ERBB2 , SRC   , PIK3R5, SHC4  </td><td>0.7647076                     </td><td>1.494473                      </td><td> 4                            </td></tr>\n",
       "\t<tr><td>rbfSVM                                </td><td>ERBB2 , SRC   , PIK3R5, SHC4  , ABL1  </td><td>0.7616773                             </td><td>1.433871                              </td><td> 5                                    </td></tr>\n",
       "\t<tr><td>rbfSVM                                        </td><td>ERBB2 , SRC   , PIK3R5, SHC4  , ABL1  , MAPK9 </td><td>0.7616773                                     </td><td>1.433871                                      </td><td> 6                                            </td></tr>\n",
       "\t<tr><td>rbfSVM                                                </td><td>ERBB2 , SRC   , PIK3R5, SHC4  , ABL1  , MAPK9 , BTC   </td><td>0.7616773                                             </td><td>1.433871                                              </td><td> 7                                                    </td></tr>\n",
       "\t<tr><td>rbfSVM                                                        </td><td>ERBB2 , SRC   , PIK3R5, SHC4  , ABL1  , MAPK9 , BTC   , AKT1  </td><td>0.7585523                                                     </td><td>1.371375                                                      </td><td> 8                                                            </td></tr>\n",
       "\t<tr><td>rbfSVM                                                                </td><td>ERBB2 , SRC   , PIK3R5, SHC4  , ABL1  , MAPK9 , BTC   , AKT1  , CAMK2A</td><td>0.7585523                                                             </td><td>1.371375                                                              </td><td> 9                                                                    </td></tr>\n",
       "\t<tr><td>rbfSVM                                                                                  </td><td>ERBB2  , SRC    , PIK3R5 , SHC4   , ABL1   , MAPK9  , BTC    , AKT1   , CAMK2A , RPS6KB1</td><td>0.7585523                                                                               </td><td>1.371375                                                                                </td><td>10                                                                                      </td></tr>\n",
       "</tbody>\n",
       "</table>\n"
      ],
      "text/latex": [
       "\\begin{tabular}{r|lllll}\n",
       " model & genes & auc & weight & series\\\\\n",
       "\\hline\n",
       "\t GradientBoost & ERBB2         & 0.7448325     & 1.096998      &  1           \\\\\n",
       "\t GradientBoost & ERBB2, SRC    & 0.7638438     & 1.477200      &  2           \\\\\n",
       "\t GradientBoost          & ERBB2 , SRC   , PIK3CG & 0.7740249              & 1.680807               &  3                    \\\\\n",
       "\t GradientBoost                  & ERBB2 , SRC   , PIK3CG, MAPK1  & 0.7761378                      & 1.723062                       &  4                            \\\\\n",
       "\t GradientBoost                          & ERBB2 , SRC   , PIK3CG, MAPK1 , CAMK2G & 0.7798242                              & 1.796785                               &  5                                    \\\\\n",
       "\t GradientBoost                                  & ERBB2 , SRC   , PIK3CG, MAPK1 , CAMK2G, AKT1   & 0.7791484                                      & 1.783271                                       &  6                                            \\\\\n",
       "\t GradientBoost                                          & ERBB2 , SRC   , PIK3CG, MAPK1 , CAMK2G, AKT1  , STAT5B & 0.7804552                                              & 1.809406                                               &  7                                                    \\\\\n",
       "\t GradientBoost                                                  & ERBB2 , SRC   , PIK3CG, MAPK1 , CAMK2G, AKT1  , STAT5B, MAP2K4 & 0.7776946                                                      & 1.754197                                                       &  8                                                            \\\\\n",
       "\t GradientBoost                                                          & ERBB2 , SRC   , PIK3CG, MAPK1 , CAMK2G, AKT1  , STAT5B, MAP2K4, ERBB4  & 0.7786037                                                              & 1.772377                                                               &  9                                                                    \\\\\n",
       "\t GradientBoost                                                                  & ERBB2 , SRC   , PIK3CG, MAPK1 , CAMK2G, AKT1  , STAT5B, MAP2K4, ERBB4 , PLCG1  & 0.7835719                                                                      & 1.871735                                                                       & 10                                                                            \\\\\n",
       "\t LinearSVM     & ERBB2         & 0.7545098     & 1.290532      &  1           \\\\\n",
       "\t LinearSVM        & ERBB2  , RPS6KB1 & 0.7576348        & 1.353028         &  2              \\\\\n",
       "\t LinearSVM                 & ERBB2  , RPS6KB1, ABL1    & 0.7576348                 & 1.353028                  &  3                       \\\\\n",
       "\t LinearSVM                          & ERBB2  , RPS6KB1, ABL1   , ABL2    & 0.7576348                          & 1.353028                           &  4                                \\\\\n",
       "\t LinearSVM                                   & ERBB2  , RPS6KB1, ABL1   , ABL2   , AKT1    & 0.7576348                                   & 1.353028                                    &  5                                         \\\\\n",
       "\t LinearSVM                                            & ERBB2  , RPS6KB1, ABL1   , ABL2   , AKT1   , AKT3    & 0.7576348                                            & 1.353028                                             &  6                                                  \\\\\n",
       "\t LinearSVM                                                     & ERBB2  , RPS6KB1, ABL1   , ABL2   , AKT1   , AKT3   , BTC     & 0.7576348                                                     & 1.353028                                                      &  7                                                           \\\\\n",
       "\t LinearSVM                                                              & ERBB2  , RPS6KB1, ABL1   , ABL2   , AKT1   , AKT3   , BTC    , CAMK2A  & 0.7576348                                                              & 1.353028                                                               &  8                                                                    \\\\\n",
       "\t LinearSVM                                                                       & ERBB2  , RPS6KB1, ABL1   , ABL2   , AKT1   , AKT3   , BTC    , CAMK2A , AKT2    & 0.7576348                                                                       & 1.353028                                                                        &  9                                                                             \\\\\n",
       "\t LinearSVM                                                                                & ERBB2  , RPS6KB1, ABL1   , ABL2   , AKT1   , AKT3   , BTC    , CAMK2A , AKT2   , ARAF    & 0.7576348                                                                                & 1.353028                                                                                 & 10                                                                                      \\\\\n",
       "\t RF            & ERBB2         & 0.7399823     & 1.000000      &  1           \\\\\n",
       "\t RF            & ERBB2, PRKCB  & 0.7681363     & 1.563043      &  2           \\\\\n",
       "\t RF                  & ERBB2, PRKCB, MAPK9 & 0.7751227           & 1.702761            &  3                 \\\\\n",
       "\t RF                             & ERBB2 , PRKCB , MAPK9 , MAP2K2 & 0.7750280                      & 1.700868                       &  4                            \\\\\n",
       "\t RF                                     & ERBB2 , PRKCB , MAPK9 , MAP2K2, SHC2   & 0.7845863                              & 1.892021                               &  5                                    \\\\\n",
       "\t RF                                             & ERBB2 , PRKCB , MAPK9 , MAP2K2, SHC2  , CBLC   & 0.7785257                                      & 1.770817                                       &  6                                            \\\\\n",
       "\t RF                                                     & ERBB2 , PRKCB , MAPK9 , MAP2K2, SHC2  , CBLC  , NRAS   & 0.7760318                                              & 1.720942                                               &  7                                                    \\\\\n",
       "\t RF                                                             & ERBB2 , PRKCB , MAPK9 , MAP2K2, SHC2  , CBLC  , NRAS  , PIK3CD & 0.7773992                                                      & 1.748289                                                       &  8                                                            \\\\\n",
       "\t RF                                                                     & ERBB2 , PRKCB , MAPK9 , MAP2K2, SHC2  , CBLC  , NRAS  , PIK3CD, PIK3R2 & 0.7713749                                                              & 1.627812                                                               &  9                                                                    \\\\\n",
       "\t RF                                                                             & ERBB2 , PRKCB , MAPK9 , MAP2K2, SHC2  , CBLC  , NRAS  , PIK3CD, PIK3R2, JUN    & 0.7780499                                                                      & 1.761303                                                                       & 10                                                                            \\\\\n",
       "\t LR            & ERBB2         & 0.7576348     & 1.353028      &  1           \\\\\n",
       "\t LR             & ERBB2 , PIK3R1 & 0.7650803      & 1.501927       &  2            \\\\\n",
       "\t LR                     & ERBB2 , PIK3R1, ABL2   & 0.7659977              & 1.520274               &  3                    \\\\\n",
       "\t LR                             & ERBB2 , PIK3R1, ABL2  , BAD    & 0.7659977                      & 1.520274                       &  4                            \\\\\n",
       "\t LR                                     & ERBB2 , PIK3R1, ABL2  , BAD   , ABL1   & 0.7682053                              & 1.564423                               &  5                                    \\\\\n",
       "\t LR                                             & ERBB2 , PIK3R1, ABL2  , BAD   , ABL1  , MAPK9  & 0.7744553                                      & 1.689414                                       &  6                                            \\\\\n",
       "\t LR                                                     & ERBB2 , PIK3R1, ABL2  , BAD   , ABL1  , MAPK9 , SOS2   & 0.7796931                                              & 1.794165                                               &  7                                                    \\\\\n",
       "\t LR                                                             & ERBB2 , PIK3R1, ABL2  , BAD   , ABL1  , MAPK9 , SOS2  , STAT5B & 0.7846530                                                      & 1.893356                                                       &  8                                                            \\\\\n",
       "\t LR                                                                     & ERBB2 , PIK3R1, ABL2  , BAD   , ABL1  , MAPK9 , SOS2  , STAT5B, CBL    & 0.7868606                                                              & 1.937504                                                               &  9                                                                    \\\\\n",
       "\t LR                                                                             & ERBB2 , PIK3R1, ABL2  , BAD   , ABL1  , MAPK9 , SOS2  , STAT5B, CBL   , SRC    & 0.7899856                                                                      & 2.000000                                                                       & 10                                                                            \\\\\n",
       "\t rbfSVM        & ERBB2         & 0.7545098     & 1.290532      &  1           \\\\\n",
       "\t rbfSVM        & ERBB2, SRC    & 0.7659030     & 1.518380      &  2           \\\\\n",
       "\t rbfSVM                 & ERBB2 , SRC   , PIK3R5 & 0.7668204              & 1.536728               &  3                    \\\\\n",
       "\t rbfSVM                         & ERBB2 , SRC   , PIK3R5, SHC4   & 0.7647076                      & 1.494473                       &  4                            \\\\\n",
       "\t rbfSVM                                 & ERBB2 , SRC   , PIK3R5, SHC4  , ABL1   & 0.7616773                              & 1.433871                               &  5                                    \\\\\n",
       "\t rbfSVM                                         & ERBB2 , SRC   , PIK3R5, SHC4  , ABL1  , MAPK9  & 0.7616773                                      & 1.433871                                       &  6                                            \\\\\n",
       "\t rbfSVM                                                 & ERBB2 , SRC   , PIK3R5, SHC4  , ABL1  , MAPK9 , BTC    & 0.7616773                                              & 1.433871                                               &  7                                                    \\\\\n",
       "\t rbfSVM                                                         & ERBB2 , SRC   , PIK3R5, SHC4  , ABL1  , MAPK9 , BTC   , AKT1   & 0.7585523                                                      & 1.371375                                                       &  8                                                            \\\\\n",
       "\t rbfSVM                                                                 & ERBB2 , SRC   , PIK3R5, SHC4  , ABL1  , MAPK9 , BTC   , AKT1  , CAMK2A & 0.7585523                                                              & 1.371375                                                               &  9                                                                    \\\\\n",
       "\t rbfSVM                                                                                   & ERBB2  , SRC    , PIK3R5 , SHC4   , ABL1   , MAPK9  , BTC    , AKT1   , CAMK2A , RPS6KB1 & 0.7585523                                                                                & 1.371375                                                                                 & 10                                                                                      \\\\\n",
       "\\end{tabular}\n"
      ],
      "text/markdown": [
       "\n",
       "model | genes | auc | weight | series | \n",
       "|---|---|---|---|---|---|---|---|---|---|---|---|---|---|---|---|---|---|---|---|---|---|---|---|---|---|---|---|---|---|---|---|---|---|---|---|---|---|---|---|---|---|---|---|---|---|---|---|---|---|\n",
       "| GradientBoost | ERBB2         | 0.7448325     | 1.096998      |  1            | \n",
       "| GradientBoost | ERBB2, SRC    | 0.7638438     | 1.477200      |  2            | \n",
       "| GradientBoost          | ERBB2 , SRC   , PIK3CG | 0.7740249              | 1.680807               |  3                     | \n",
       "| GradientBoost                  | ERBB2 , SRC   , PIK3CG, MAPK1  | 0.7761378                      | 1.723062                       |  4                             | \n",
       "| GradientBoost                          | ERBB2 , SRC   , PIK3CG, MAPK1 , CAMK2G | 0.7798242                              | 1.796785                               |  5                                     | \n",
       "| GradientBoost                                  | ERBB2 , SRC   , PIK3CG, MAPK1 , CAMK2G, AKT1   | 0.7791484                                      | 1.783271                                       |  6                                             | \n",
       "| GradientBoost                                          | ERBB2 , SRC   , PIK3CG, MAPK1 , CAMK2G, AKT1  , STAT5B | 0.7804552                                              | 1.809406                                               |  7                                                     | \n",
       "| GradientBoost                                                  | ERBB2 , SRC   , PIK3CG, MAPK1 , CAMK2G, AKT1  , STAT5B, MAP2K4 | 0.7776946                                                      | 1.754197                                                       |  8                                                             | \n",
       "| GradientBoost                                                          | ERBB2 , SRC   , PIK3CG, MAPK1 , CAMK2G, AKT1  , STAT5B, MAP2K4, ERBB4  | 0.7786037                                                              | 1.772377                                                               |  9                                                                     | \n",
       "| GradientBoost                                                                  | ERBB2 , SRC   , PIK3CG, MAPK1 , CAMK2G, AKT1  , STAT5B, MAP2K4, ERBB4 , PLCG1  | 0.7835719                                                                      | 1.871735                                                                       | 10                                                                             | \n",
       "| LinearSVM     | ERBB2         | 0.7545098     | 1.290532      |  1            | \n",
       "| LinearSVM        | ERBB2  , RPS6KB1 | 0.7576348        | 1.353028         |  2               | \n",
       "| LinearSVM                 | ERBB2  , RPS6KB1, ABL1    | 0.7576348                 | 1.353028                  |  3                        | \n",
       "| LinearSVM                          | ERBB2  , RPS6KB1, ABL1   , ABL2    | 0.7576348                          | 1.353028                           |  4                                 | \n",
       "| LinearSVM                                   | ERBB2  , RPS6KB1, ABL1   , ABL2   , AKT1    | 0.7576348                                   | 1.353028                                    |  5                                          | \n",
       "| LinearSVM                                            | ERBB2  , RPS6KB1, ABL1   , ABL2   , AKT1   , AKT3    | 0.7576348                                            | 1.353028                                             |  6                                                   | \n",
       "| LinearSVM                                                     | ERBB2  , RPS6KB1, ABL1   , ABL2   , AKT1   , AKT3   , BTC     | 0.7576348                                                     | 1.353028                                                      |  7                                                            | \n",
       "| LinearSVM                                                              | ERBB2  , RPS6KB1, ABL1   , ABL2   , AKT1   , AKT3   , BTC    , CAMK2A  | 0.7576348                                                              | 1.353028                                                               |  8                                                                     | \n",
       "| LinearSVM                                                                       | ERBB2  , RPS6KB1, ABL1   , ABL2   , AKT1   , AKT3   , BTC    , CAMK2A , AKT2    | 0.7576348                                                                       | 1.353028                                                                        |  9                                                                              | \n",
       "| LinearSVM                                                                                | ERBB2  , RPS6KB1, ABL1   , ABL2   , AKT1   , AKT3   , BTC    , CAMK2A , AKT2   , ARAF    | 0.7576348                                                                                | 1.353028                                                                                 | 10                                                                                       | \n",
       "| RF            | ERBB2         | 0.7399823     | 1.000000      |  1            | \n",
       "| RF            | ERBB2, PRKCB  | 0.7681363     | 1.563043      |  2            | \n",
       "| RF                  | ERBB2, PRKCB, MAPK9 | 0.7751227           | 1.702761            |  3                  | \n",
       "| RF                             | ERBB2 , PRKCB , MAPK9 , MAP2K2 | 0.7750280                      | 1.700868                       |  4                             | \n",
       "| RF                                     | ERBB2 , PRKCB , MAPK9 , MAP2K2, SHC2   | 0.7845863                              | 1.892021                               |  5                                     | \n",
       "| RF                                             | ERBB2 , PRKCB , MAPK9 , MAP2K2, SHC2  , CBLC   | 0.7785257                                      | 1.770817                                       |  6                                             | \n",
       "| RF                                                     | ERBB2 , PRKCB , MAPK9 , MAP2K2, SHC2  , CBLC  , NRAS   | 0.7760318                                              | 1.720942                                               |  7                                                     | \n",
       "| RF                                                             | ERBB2 , PRKCB , MAPK9 , MAP2K2, SHC2  , CBLC  , NRAS  , PIK3CD | 0.7773992                                                      | 1.748289                                                       |  8                                                             | \n",
       "| RF                                                                     | ERBB2 , PRKCB , MAPK9 , MAP2K2, SHC2  , CBLC  , NRAS  , PIK3CD, PIK3R2 | 0.7713749                                                              | 1.627812                                                               |  9                                                                     | \n",
       "| RF                                                                             | ERBB2 , PRKCB , MAPK9 , MAP2K2, SHC2  , CBLC  , NRAS  , PIK3CD, PIK3R2, JUN    | 0.7780499                                                                      | 1.761303                                                                       | 10                                                                             | \n",
       "| LR            | ERBB2         | 0.7576348     | 1.353028      |  1            | \n",
       "| LR             | ERBB2 , PIK3R1 | 0.7650803      | 1.501927       |  2             | \n",
       "| LR                     | ERBB2 , PIK3R1, ABL2   | 0.7659977              | 1.520274               |  3                     | \n",
       "| LR                             | ERBB2 , PIK3R1, ABL2  , BAD    | 0.7659977                      | 1.520274                       |  4                             | \n",
       "| LR                                     | ERBB2 , PIK3R1, ABL2  , BAD   , ABL1   | 0.7682053                              | 1.564423                               |  5                                     | \n",
       "| LR                                             | ERBB2 , PIK3R1, ABL2  , BAD   , ABL1  , MAPK9  | 0.7744553                                      | 1.689414                                       |  6                                             | \n",
       "| LR                                                     | ERBB2 , PIK3R1, ABL2  , BAD   , ABL1  , MAPK9 , SOS2   | 0.7796931                                              | 1.794165                                               |  7                                                     | \n",
       "| LR                                                             | ERBB2 , PIK3R1, ABL2  , BAD   , ABL1  , MAPK9 , SOS2  , STAT5B | 0.7846530                                                      | 1.893356                                                       |  8                                                             | \n",
       "| LR                                                                     | ERBB2 , PIK3R1, ABL2  , BAD   , ABL1  , MAPK9 , SOS2  , STAT5B, CBL    | 0.7868606                                                              | 1.937504                                                               |  9                                                                     | \n",
       "| LR                                                                             | ERBB2 , PIK3R1, ABL2  , BAD   , ABL1  , MAPK9 , SOS2  , STAT5B, CBL   , SRC    | 0.7899856                                                                      | 2.000000                                                                       | 10                                                                             | \n",
       "| rbfSVM        | ERBB2         | 0.7545098     | 1.290532      |  1            | \n",
       "| rbfSVM        | ERBB2, SRC    | 0.7659030     | 1.518380      |  2            | \n",
       "| rbfSVM                 | ERBB2 , SRC   , PIK3R5 | 0.7668204              | 1.536728               |  3                     | \n",
       "| rbfSVM                         | ERBB2 , SRC   , PIK3R5, SHC4   | 0.7647076                      | 1.494473                       |  4                             | \n",
       "| rbfSVM                                 | ERBB2 , SRC   , PIK3R5, SHC4  , ABL1   | 0.7616773                              | 1.433871                               |  5                                     | \n",
       "| rbfSVM                                         | ERBB2 , SRC   , PIK3R5, SHC4  , ABL1  , MAPK9  | 0.7616773                                      | 1.433871                                       |  6                                             | \n",
       "| rbfSVM                                                 | ERBB2 , SRC   , PIK3R5, SHC4  , ABL1  , MAPK9 , BTC    | 0.7616773                                              | 1.433871                                               |  7                                                     | \n",
       "| rbfSVM                                                         | ERBB2 , SRC   , PIK3R5, SHC4  , ABL1  , MAPK9 , BTC   , AKT1   | 0.7585523                                                      | 1.371375                                                       |  8                                                             | \n",
       "| rbfSVM                                                                 | ERBB2 , SRC   , PIK3R5, SHC4  , ABL1  , MAPK9 , BTC   , AKT1  , CAMK2A | 0.7585523                                                              | 1.371375                                                               |  9                                                                     | \n",
       "| rbfSVM                                                                                   | ERBB2  , SRC    , PIK3R5 , SHC4   , ABL1   , MAPK9  , BTC    , AKT1   , CAMK2A , RPS6KB1 | 0.7585523                                                                                | 1.371375                                                                                 | 10                                                                                       | \n",
       "\n",
       "\n"
      ],
      "text/plain": [
       "   model        \n",
       "1  GradientBoost\n",
       "2  GradientBoost\n",
       "3  GradientBoost\n",
       "4  GradientBoost\n",
       "5  GradientBoost\n",
       "6  GradientBoost\n",
       "7  GradientBoost\n",
       "8  GradientBoost\n",
       "9  GradientBoost\n",
       "10 GradientBoost\n",
       "11 LinearSVM    \n",
       "12 LinearSVM    \n",
       "13 LinearSVM    \n",
       "14 LinearSVM    \n",
       "15 LinearSVM    \n",
       "16 LinearSVM    \n",
       "17 LinearSVM    \n",
       "18 LinearSVM    \n",
       "19 LinearSVM    \n",
       "20 LinearSVM    \n",
       "21 RF           \n",
       "22 RF           \n",
       "23 RF           \n",
       "24 RF           \n",
       "25 RF           \n",
       "26 RF           \n",
       "27 RF           \n",
       "28 RF           \n",
       "29 RF           \n",
       "30 RF           \n",
       "31 LR           \n",
       "32 LR           \n",
       "33 LR           \n",
       "34 LR           \n",
       "35 LR           \n",
       "36 LR           \n",
       "37 LR           \n",
       "38 LR           \n",
       "39 LR           \n",
       "40 LR           \n",
       "41 rbfSVM       \n",
       "42 rbfSVM       \n",
       "43 rbfSVM       \n",
       "44 rbfSVM       \n",
       "45 rbfSVM       \n",
       "46 rbfSVM       \n",
       "47 rbfSVM       \n",
       "48 rbfSVM       \n",
       "49 rbfSVM       \n",
       "50 rbfSVM       \n",
       "   genes                                                                                   \n",
       "1  ERBB2                                                                                   \n",
       "2  ERBB2, SRC                                                                              \n",
       "3  ERBB2 , SRC   , PIK3CG                                                                  \n",
       "4  ERBB2 , SRC   , PIK3CG, MAPK1                                                           \n",
       "5  ERBB2 , SRC   , PIK3CG, MAPK1 , CAMK2G                                                  \n",
       "6  ERBB2 , SRC   , PIK3CG, MAPK1 , CAMK2G, AKT1                                            \n",
       "7  ERBB2 , SRC   , PIK3CG, MAPK1 , CAMK2G, AKT1  , STAT5B                                  \n",
       "8  ERBB2 , SRC   , PIK3CG, MAPK1 , CAMK2G, AKT1  , STAT5B, MAP2K4                          \n",
       "9  ERBB2 , SRC   , PIK3CG, MAPK1 , CAMK2G, AKT1  , STAT5B, MAP2K4, ERBB4                   \n",
       "10 ERBB2 , SRC   , PIK3CG, MAPK1 , CAMK2G, AKT1  , STAT5B, MAP2K4, ERBB4 , PLCG1           \n",
       "11 ERBB2                                                                                   \n",
       "12 ERBB2  , RPS6KB1                                                                        \n",
       "13 ERBB2  , RPS6KB1, ABL1                                                                  \n",
       "14 ERBB2  , RPS6KB1, ABL1   , ABL2                                                         \n",
       "15 ERBB2  , RPS6KB1, ABL1   , ABL2   , AKT1                                                \n",
       "16 ERBB2  , RPS6KB1, ABL1   , ABL2   , AKT1   , AKT3                                       \n",
       "17 ERBB2  , RPS6KB1, ABL1   , ABL2   , AKT1   , AKT3   , BTC                               \n",
       "18 ERBB2  , RPS6KB1, ABL1   , ABL2   , AKT1   , AKT3   , BTC    , CAMK2A                   \n",
       "19 ERBB2  , RPS6KB1, ABL1   , ABL2   , AKT1   , AKT3   , BTC    , CAMK2A , AKT2            \n",
       "20 ERBB2  , RPS6KB1, ABL1   , ABL2   , AKT1   , AKT3   , BTC    , CAMK2A , AKT2   , ARAF   \n",
       "21 ERBB2                                                                                   \n",
       "22 ERBB2, PRKCB                                                                            \n",
       "23 ERBB2, PRKCB, MAPK9                                                                     \n",
       "24 ERBB2 , PRKCB , MAPK9 , MAP2K2                                                          \n",
       "25 ERBB2 , PRKCB , MAPK9 , MAP2K2, SHC2                                                    \n",
       "26 ERBB2 , PRKCB , MAPK9 , MAP2K2, SHC2  , CBLC                                            \n",
       "27 ERBB2 , PRKCB , MAPK9 , MAP2K2, SHC2  , CBLC  , NRAS                                    \n",
       "28 ERBB2 , PRKCB , MAPK9 , MAP2K2, SHC2  , CBLC  , NRAS  , PIK3CD                          \n",
       "29 ERBB2 , PRKCB , MAPK9 , MAP2K2, SHC2  , CBLC  , NRAS  , PIK3CD, PIK3R2                  \n",
       "30 ERBB2 , PRKCB , MAPK9 , MAP2K2, SHC2  , CBLC  , NRAS  , PIK3CD, PIK3R2, JUN             \n",
       "31 ERBB2                                                                                   \n",
       "32 ERBB2 , PIK3R1                                                                          \n",
       "33 ERBB2 , PIK3R1, ABL2                                                                    \n",
       "34 ERBB2 , PIK3R1, ABL2  , BAD                                                             \n",
       "35 ERBB2 , PIK3R1, ABL2  , BAD   , ABL1                                                    \n",
       "36 ERBB2 , PIK3R1, ABL2  , BAD   , ABL1  , MAPK9                                           \n",
       "37 ERBB2 , PIK3R1, ABL2  , BAD   , ABL1  , MAPK9 , SOS2                                    \n",
       "38 ERBB2 , PIK3R1, ABL2  , BAD   , ABL1  , MAPK9 , SOS2  , STAT5B                          \n",
       "39 ERBB2 , PIK3R1, ABL2  , BAD   , ABL1  , MAPK9 , SOS2  , STAT5B, CBL                     \n",
       "40 ERBB2 , PIK3R1, ABL2  , BAD   , ABL1  , MAPK9 , SOS2  , STAT5B, CBL   , SRC             \n",
       "41 ERBB2                                                                                   \n",
       "42 ERBB2, SRC                                                                              \n",
       "43 ERBB2 , SRC   , PIK3R5                                                                  \n",
       "44 ERBB2 , SRC   , PIK3R5, SHC4                                                            \n",
       "45 ERBB2 , SRC   , PIK3R5, SHC4  , ABL1                                                    \n",
       "46 ERBB2 , SRC   , PIK3R5, SHC4  , ABL1  , MAPK9                                           \n",
       "47 ERBB2 , SRC   , PIK3R5, SHC4  , ABL1  , MAPK9 , BTC                                     \n",
       "48 ERBB2 , SRC   , PIK3R5, SHC4  , ABL1  , MAPK9 , BTC   , AKT1                            \n",
       "49 ERBB2 , SRC   , PIK3R5, SHC4  , ABL1  , MAPK9 , BTC   , AKT1  , CAMK2A                  \n",
       "50 ERBB2  , SRC    , PIK3R5 , SHC4   , ABL1   , MAPK9  , BTC    , AKT1   , CAMK2A , RPS6KB1\n",
       "   auc       weight   series\n",
       "1  0.7448325 1.096998  1    \n",
       "2  0.7638438 1.477200  2    \n",
       "3  0.7740249 1.680807  3    \n",
       "4  0.7761378 1.723062  4    \n",
       "5  0.7798242 1.796785  5    \n",
       "6  0.7791484 1.783271  6    \n",
       "7  0.7804552 1.809406  7    \n",
       "8  0.7776946 1.754197  8    \n",
       "9  0.7786037 1.772377  9    \n",
       "10 0.7835719 1.871735 10    \n",
       "11 0.7545098 1.290532  1    \n",
       "12 0.7576348 1.353028  2    \n",
       "13 0.7576348 1.353028  3    \n",
       "14 0.7576348 1.353028  4    \n",
       "15 0.7576348 1.353028  5    \n",
       "16 0.7576348 1.353028  6    \n",
       "17 0.7576348 1.353028  7    \n",
       "18 0.7576348 1.353028  8    \n",
       "19 0.7576348 1.353028  9    \n",
       "20 0.7576348 1.353028 10    \n",
       "21 0.7399823 1.000000  1    \n",
       "22 0.7681363 1.563043  2    \n",
       "23 0.7751227 1.702761  3    \n",
       "24 0.7750280 1.700868  4    \n",
       "25 0.7845863 1.892021  5    \n",
       "26 0.7785257 1.770817  6    \n",
       "27 0.7760318 1.720942  7    \n",
       "28 0.7773992 1.748289  8    \n",
       "29 0.7713749 1.627812  9    \n",
       "30 0.7780499 1.761303 10    \n",
       "31 0.7576348 1.353028  1    \n",
       "32 0.7650803 1.501927  2    \n",
       "33 0.7659977 1.520274  3    \n",
       "34 0.7659977 1.520274  4    \n",
       "35 0.7682053 1.564423  5    \n",
       "36 0.7744553 1.689414  6    \n",
       "37 0.7796931 1.794165  7    \n",
       "38 0.7846530 1.893356  8    \n",
       "39 0.7868606 1.937504  9    \n",
       "40 0.7899856 2.000000 10    \n",
       "41 0.7545098 1.290532  1    \n",
       "42 0.7659030 1.518380  2    \n",
       "43 0.7668204 1.536728  3    \n",
       "44 0.7647076 1.494473  4    \n",
       "45 0.7616773 1.433871  5    \n",
       "46 0.7616773 1.433871  6    \n",
       "47 0.7616773 1.433871  7    \n",
       "48 0.7585523 1.371375  8    \n",
       "49 0.7585523 1.371375  9    \n",
       "50 0.7585523 1.371375 10    "
      ]
     },
     "metadata": {},
     "output_type": "display_data"
    }
   ],
   "source": [
    "seqd.genes"
   ]
  },
  {
   "cell_type": "markdown",
   "metadata": {},
   "source": [
    "ERBB2 was selected as the first gene in _every_ case without any prompting. Thus, we can trust these tests to find the most closely correlated genes."
   ]
  },
  {
   "cell_type": "code",
   "execution_count": 144,
   "metadata": {},
   "outputs": [
    {
     "name": "stderr",
     "output_type": "stream",
     "text": [
      "Parsed with column specification:\n",
      "cols(\n",
      "  X1 = col_character()\n",
      ")\n"
     ]
    }
   ],
   "source": [
    "all.seqd.genes <- as.data.frame(read_tsv(\"../data/genes.txt\", col_names = F))\n",
    "names(all.seqd.genes) <- c(\"gene\")\n",
    "\n",
    "all.seqd.genes$score <- get_seqd_score(all.seqd.genes$gene, seqd.genes)"
   ]
  },
  {
   "cell_type": "code",
   "execution_count": 147,
   "metadata": {},
   "outputs": [],
   "source": [
    "all.seqd.genes <- all.seqd.genes[order(all.seqd.genes$score, decreasing = T),]\n",
    "row.names(all.seqd.genes) <- seq(length = nrow(all.seqd.genes))\n",
    "\n",
    "#all.genes\n",
    "\n",
    "top.seqd.genes <- all.seqd.genes[which(all.seqd.genes$score > 0),]\n",
    "\n",
    "top.seqd.genes$gene <- factor(top.seqd.genes$gene, levels = top.seqd.genes$gene[order(top.seqd.genes$score, decreasing = T)])"
   ]
  },
  {
   "cell_type": "code",
   "execution_count": 148,
   "metadata": {},
   "outputs": [
    {
     "data": {
      "text/html": [
       "<table>\n",
       "<thead><tr><th scope=col>gene</th><th scope=col>score</th></tr></thead>\n",
       "<tbody>\n",
       "\t<tr><td>ERBB2    </td><td>60.310898</td></tr>\n",
       "\t<tr><td>MAPK9    </td><td>29.238520</td></tr>\n",
       "\t<tr><td>SRC      </td><td>28.960219</td></tr>\n",
       "\t<tr><td>ABL1     </td><td>28.813986</td></tr>\n",
       "\t<tr><td>ABL2     </td><td>21.633389</td></tr>\n",
       "\t<tr><td>AKT1     </td><td>21.148649</td></tr>\n",
       "\t<tr><td>PRKCB    </td><td>14.067389</td></tr>\n",
       "\t<tr><td>RPS6KB1  </td><td>13.548626</td></tr>\n",
       "\t<tr><td>PIK3R1   </td><td>13.517341</td></tr>\n",
       "\t<tr><td>PIK3CG   </td><td>13.446457</td></tr>\n",
       "\t<tr><td>STAT5B   </td><td>12.917690</td></tr>\n",
       "\t<tr><td>PIK3R5   </td><td>12.293823</td></tr>\n",
       "\t<tr><td>MAPK1    </td><td>12.061433</td></tr>\n",
       "\t<tr><td>MAP2K2   </td><td>11.906074</td></tr>\n",
       "\t<tr><td>SHC2     </td><td>11.352128</td></tr>\n",
       "\t<tr><td>BTC      </td><td>11.147596</td></tr>\n",
       "\t<tr><td>CAMK2G   </td><td>10.780710</td></tr>\n",
       "\t<tr><td>BAD      </td><td>10.641920</td></tr>\n",
       "\t<tr><td>SHC4     </td><td>10.461312</td></tr>\n",
       "\t<tr><td>CBLC     </td><td> 8.854086</td></tr>\n",
       "\t<tr><td>SOS2     </td><td> 7.176660</td></tr>\n",
       "\t<tr><td>NRAS     </td><td> 6.883768</td></tr>\n",
       "\t<tr><td>CAMK2A   </td><td> 6.801834</td></tr>\n",
       "\t<tr><td>AKT3     </td><td> 6.765139</td></tr>\n",
       "\t<tr><td>MAP2K4   </td><td> 5.262590</td></tr>\n",
       "\t<tr><td>PIK3CD   </td><td> 5.244868</td></tr>\n",
       "\t<tr><td>CBL      </td><td> 3.875008</td></tr>\n",
       "\t<tr><td>ERBB4    </td><td> 3.544755</td></tr>\n",
       "\t<tr><td>PIK3R2   </td><td> 3.255623</td></tr>\n",
       "\t<tr><td>AKT2     </td><td> 2.706056</td></tr>\n",
       "\t<tr><td>PLCG1    </td><td> 1.871735</td></tr>\n",
       "\t<tr><td>JUN      </td><td> 1.761303</td></tr>\n",
       "\t<tr><td>ARAF     </td><td> 1.353028</td></tr>\n",
       "</tbody>\n",
       "</table>\n"
      ],
      "text/latex": [
       "\\begin{tabular}{r|ll}\n",
       " gene & score\\\\\n",
       "\\hline\n",
       "\t ERBB2     & 60.310898\\\\\n",
       "\t MAPK9     & 29.238520\\\\\n",
       "\t SRC       & 28.960219\\\\\n",
       "\t ABL1      & 28.813986\\\\\n",
       "\t ABL2      & 21.633389\\\\\n",
       "\t AKT1      & 21.148649\\\\\n",
       "\t PRKCB     & 14.067389\\\\\n",
       "\t RPS6KB1   & 13.548626\\\\\n",
       "\t PIK3R1    & 13.517341\\\\\n",
       "\t PIK3CG    & 13.446457\\\\\n",
       "\t STAT5B    & 12.917690\\\\\n",
       "\t PIK3R5    & 12.293823\\\\\n",
       "\t MAPK1     & 12.061433\\\\\n",
       "\t MAP2K2    & 11.906074\\\\\n",
       "\t SHC2      & 11.352128\\\\\n",
       "\t BTC       & 11.147596\\\\\n",
       "\t CAMK2G    & 10.780710\\\\\n",
       "\t BAD       & 10.641920\\\\\n",
       "\t SHC4      & 10.461312\\\\\n",
       "\t CBLC      &  8.854086\\\\\n",
       "\t SOS2      &  7.176660\\\\\n",
       "\t NRAS      &  6.883768\\\\\n",
       "\t CAMK2A    &  6.801834\\\\\n",
       "\t AKT3      &  6.765139\\\\\n",
       "\t MAP2K4    &  5.262590\\\\\n",
       "\t PIK3CD    &  5.244868\\\\\n",
       "\t CBL       &  3.875008\\\\\n",
       "\t ERBB4     &  3.544755\\\\\n",
       "\t PIK3R2    &  3.255623\\\\\n",
       "\t AKT2      &  2.706056\\\\\n",
       "\t PLCG1     &  1.871735\\\\\n",
       "\t JUN       &  1.761303\\\\\n",
       "\t ARAF      &  1.353028\\\\\n",
       "\\end{tabular}\n"
      ],
      "text/markdown": [
       "\n",
       "gene | score | \n",
       "|---|---|---|---|---|---|---|---|---|---|---|---|---|---|---|---|---|---|---|---|---|---|---|---|---|---|---|---|---|---|---|---|---|\n",
       "| ERBB2     | 60.310898 | \n",
       "| MAPK9     | 29.238520 | \n",
       "| SRC       | 28.960219 | \n",
       "| ABL1      | 28.813986 | \n",
       "| ABL2      | 21.633389 | \n",
       "| AKT1      | 21.148649 | \n",
       "| PRKCB     | 14.067389 | \n",
       "| RPS6KB1   | 13.548626 | \n",
       "| PIK3R1    | 13.517341 | \n",
       "| PIK3CG    | 13.446457 | \n",
       "| STAT5B    | 12.917690 | \n",
       "| PIK3R5    | 12.293823 | \n",
       "| MAPK1     | 12.061433 | \n",
       "| MAP2K2    | 11.906074 | \n",
       "| SHC2      | 11.352128 | \n",
       "| BTC       | 11.147596 | \n",
       "| CAMK2G    | 10.780710 | \n",
       "| BAD       | 10.641920 | \n",
       "| SHC4      | 10.461312 | \n",
       "| CBLC      |  8.854086 | \n",
       "| SOS2      |  7.176660 | \n",
       "| NRAS      |  6.883768 | \n",
       "| CAMK2A    |  6.801834 | \n",
       "| AKT3      |  6.765139 | \n",
       "| MAP2K4    |  5.262590 | \n",
       "| PIK3CD    |  5.244868 | \n",
       "| CBL       |  3.875008 | \n",
       "| ERBB4     |  3.544755 | \n",
       "| PIK3R2    |  3.255623 | \n",
       "| AKT2      |  2.706056 | \n",
       "| PLCG1     |  1.871735 | \n",
       "| JUN       |  1.761303 | \n",
       "| ARAF      |  1.353028 | \n",
       "\n",
       "\n"
      ],
      "text/plain": [
       "   gene    score    \n",
       "1  ERBB2   60.310898\n",
       "2  MAPK9   29.238520\n",
       "3  SRC     28.960219\n",
       "4  ABL1    28.813986\n",
       "5  ABL2    21.633389\n",
       "6  AKT1    21.148649\n",
       "7  PRKCB   14.067389\n",
       "8  RPS6KB1 13.548626\n",
       "9  PIK3R1  13.517341\n",
       "10 PIK3CG  13.446457\n",
       "11 STAT5B  12.917690\n",
       "12 PIK3R5  12.293823\n",
       "13 MAPK1   12.061433\n",
       "14 MAP2K2  11.906074\n",
       "15 SHC2    11.352128\n",
       "16 BTC     11.147596\n",
       "17 CAMK2G  10.780710\n",
       "18 BAD     10.641920\n",
       "19 SHC4    10.461312\n",
       "20 CBLC     8.854086\n",
       "21 SOS2     7.176660\n",
       "22 NRAS     6.883768\n",
       "23 CAMK2A   6.801834\n",
       "24 AKT3     6.765139\n",
       "25 MAP2K4   5.262590\n",
       "26 PIK3CD   5.244868\n",
       "27 CBL      3.875008\n",
       "28 ERBB4    3.544755\n",
       "29 PIK3R2   3.255623\n",
       "30 AKT2     2.706056\n",
       "31 PLCG1    1.871735\n",
       "32 JUN      1.761303\n",
       "33 ARAF     1.353028"
      ]
     },
     "metadata": {},
     "output_type": "display_data"
    }
   ],
   "source": [
    "top.seqd.genes"
   ]
  },
  {
   "cell_type": "code",
   "execution_count": 149,
   "metadata": {},
   "outputs": [
    {
     "data": {},
     "metadata": {},
     "output_type": "display_data"
    },
    {
     "data": {
      "image/png": "[encoded data removed]",
      "text/plain": [
       "plot without title"
      ]
     },
     "metadata": {},
     "output_type": "display_data",
     "source": "R display func"
    }
   ],
   "source": [
    "gbar <- ggplot(top.seqd.genes, aes(x = gene, y = score, fill = 'gene'))\n",
    "ggbar <- gbar + geom_bar(stat = 'identity') +\n",
    "        scale_fill_manual(values = \"blue\", guide = F) +\n",
    "        theme(axis.text.x = element_text(angle = 90, vjust = 0.5))\n",
    "\n",
    "ggbar"
   ]
  },
  {
   "cell_type": "markdown",
   "metadata": {},
   "source": [
    "I would just like to point out here that the top five genes here and the top five genes from the initial tests are the same (although not necessarily in the same order, as we see that SRC and ABL1 are now switched). Also, since ERBB2 was always selected first, it has a significantly greater score than the rest.\n",
    "\n",
    "Now, let's look at how AUC was affected at each point while building the selected genes lists."
   ]
  },
  {
   "cell_type": "code",
   "execution_count": 187,
   "metadata": {},
   "outputs": [],
   "source": [
    "seqd.genes$series <- as.integer(lapply(seqd.genes$genes, length))\n"
   ]
  },
  {
   "cell_type": "code",
   "execution_count": 197,
   "metadata": {},
   "outputs": [
    {
     "data": {},
     "metadata": {},
     "output_type": "display_data"
    },
    {
     "data": {
      "image/png": "[encoded data removed]",
      "text/plain": [
       "plot without title"
      ]
     },
     "metadata": {},
     "output_type": "display_data",
     "source": "R display func"
    }
   ],
   "source": [
    "gbar <- ggplot(seqd.genes, aes(x = series, y = auc, fill = model))\n",
    "ggbar <- gbar + geom_bar(stat = \"identity\") + facet_grid(. ~ model) +\n",
    "            coord_cartesian(ylim = c(0.74, 0.79)) +\n",
    "            scale_x_continuous(breaks = seq(1, 10))\n",
    "\n",
    "ggbar"
   ]
  },
  {
   "cell_type": "markdown",
   "metadata": {},
   "source": [
    ">__NOTE:__ There is not much space, so I just used numbers to represent which gene (position) within the list of selected genes was added at the time of AUC calculation. For reference, I will add the selected genes of each group. e.g. If I were looking at GradientBoosting, series 1 would be `ERBB2` and series 2 would be `SRC` and so forth.\n",
    "\n",
    "`GradientBoosting: ERBB2, SRC, PIK3CG, MAPK1, CAMK2G, AKT1, STAT5B, MAP2K4, ERBB4 , PLCG1`\n",
    "\n",
    "`LinearSVM: ERBB2, RPS6KB1, ABL1, ABL2, AKT1, AKT3, BTC, CAMK2A, AKT2, ARAF`\n",
    "\n",
    "`Logistic Regression (LR): ERBB2, PIK3R1, ABL2, BAD, ABL1, MAPK9, SOS2, STAT5B, CBL, SRC`\n",
    "\n",
    "`rbfSVM: ERBB2, SRC, PIK3R5, SHC4, ABL1, MAPK9, BTC, AKT1, CAMK2A, RPS6KB1`\n",
    "\n",
    "`Random Forest (RF): ERBB2, PRKCB, MAPK9, MAP2K2, SHC2, CBLC, NRAS, PIK3CD, PIK3R2, JUN`\n",
    "\n",
    "One interesting trend here is that each algorithm actually performed poorest when using _just ERBB2_. After that, not much can be pulled from this graph other than simply being able to visualize the impact that each gene had on AUC. However, I still believe that the previous graph (the one comparing gene scores) is a more succinct summary of the influence of a gene and its importance in accurately predicting HER2 positivity."
   ]
  },
  {
   "cell_type": "code",
   "execution_count": null,
   "metadata": {},
   "outputs": [],
   "source": []
  }
 ],
 "metadata": {
  "kernelspec": {
   "display_name": "R",
   "language": "R",
   "name": "ir"
  },
  "language_info": {
   "codemirror_mode": "r",
   "file_extension": ".r",
   "mimetype": "text/x-r-source",
   "name": "R",
   "pygments_lexer": "r",
   "version": "3.4.1"
  }
 },
 "nbformat": 4,
 "nbformat_minor": 2
}
