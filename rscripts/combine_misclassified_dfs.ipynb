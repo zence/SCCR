{
 "cells": [
  {
   "cell_type": "code",
   "execution_count": 1,
   "metadata": {},
   "outputs": [
    {
     "name": "stderr",
     "output_type": "stream",
     "text": [
      "Loading required package: readr\n"
     ]
    }
   ],
   "source": [
    "require(readr)"
   ]
  },
  {
   "cell_type": "code",
   "execution_count": 2,
   "metadata": {},
   "outputs": [
    {
     "name": "stderr",
     "output_type": "stream",
     "text": [
      "Parsed with column specification:\n",
      "cols(\n",
      "  .default = col_double(),\n",
      "  Sample = col_character(),\n",
      "  her2_status_by_ihc = col_character(),\n",
      "  SVM_classified = col_character()\n",
      ")\n",
      "See spec(...) for full column specifications.\n"
     ]
    }
   ],
   "source": [
    "svm.misclassied <- as.data.frame(read_tsv(\"../data/svm_genes_TPM.tsv.gz\"))"
   ]
  },
  {
   "cell_type": "code",
   "execution_count": 3,
   "metadata": {},
   "outputs": [
    {
     "name": "stderr",
     "output_type": "stream",
     "text": [
      "Parsed with column specification:\n",
      "cols(\n",
      "  .default = col_double(),\n",
      "  Sample = col_character(),\n",
      "  her2_status_by_ihc = col_character(),\n",
      "  RF_classified = col_character()\n",
      ")\n",
      "See spec(...) for full column specifications.\n"
     ]
    }
   ],
   "source": [
    "rf.misclassied <- as.data.frame(read_tsv(\"../data/rf_genes_TPM.tsv.gz\"))"
   ]
  },
  {
   "cell_type": "code",
   "execution_count": 10,
   "metadata": {},
   "outputs": [],
   "source": [
    "both.misclassied <- merge(svm.misclassied, rf.misclassied[,c('Sample', 'RF_classified')], by = 'Sample')"
   ]
  },
  {
   "cell_type": "code",
   "execution_count": 16,
   "metadata": {},
   "outputs": [
    {
     "name": "stderr",
     "output_type": "stream",
     "text": [
      "Warning message in match.arg(method):\n",
      "“closing unused connection 4 (../data/both_genes_TPM.tsv.gz)”"
     ]
    }
   ],
   "source": [
    "gz1 <- gzfile(\"../data/both_genes_TPM.tsv.gz\", \"w\")\n",
    "write.table(both.misclassied, file = gz1, quote = F, row.names = F, sep = \"\\t\")\n",
    "close(gz1)"
   ]
  },
  {
   "cell_type": "code",
   "execution_count": null,
   "metadata": {},
   "outputs": [],
   "source": []
  }
 ],
 "metadata": {
  "kernelspec": {
   "display_name": "R",
   "language": "R",
   "name": "ir"
  },
  "language_info": {
   "codemirror_mode": "r",
   "file_extension": ".r",
   "mimetype": "text/x-r-source",
   "name": "R",
   "pygments_lexer": "r",
   "version": "3.4.1"
  }
 },
 "nbformat": 4,
 "nbformat_minor": 2
}
